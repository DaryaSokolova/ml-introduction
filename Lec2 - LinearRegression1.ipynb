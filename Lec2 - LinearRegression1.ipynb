{
 "cells": [
  {
   "cell_type": "markdown",
   "metadata": {},
   "source": [
    "\n",
    "<a href=\"https://colab.research.google.com/github/OsipovOleg/crash-python-notebooks/blob/master/scientific_computing.ipynb\">\n",
    "  <img src=\"https://colab.research.google.com/assets/colab-badge.svg\" alt=\"Open In Colab\"/>\n",
    "</a>\n"
   ]
  },
  {
   "cell_type": "code",
   "execution_count": 432,
   "metadata": {},
   "outputs": [],
   "source": [
    "import numpy as np\n",
    "import matplotlib.pyplot as plt\n",
    "np.set_printoptions(precision=3)\n",
    "from sklearn.model_selection import train_test_split\n",
    "from numpy.linalg import inv"
   ]
  },
  {
   "cell_type": "markdown",
   "metadata": {},
   "source": [
    "Для краткого знакомства с numpy:\n",
    "- [A Quick Introduction to the NumPy Library](https://towardsdatascience.com/a-quick-introduction-to-the-numpy-library-6f61b7dee4db)\n",
    "- [NumPy Cheat Sheet](https://s3.amazonaws.com/assets.datacamp.com/blog_assets/Numpy_Python_Cheat_Sheet.pdf)\n",
    "- [Examples](https://github.com/OsipovOleg/crash-python-notebooks/blob/master/scientific_computing.ipynb)"
   ]
  },
  {
   "cell_type": "markdown",
   "metadata": {},
   "source": [
    "# 1. Overfitting/Underfitting"
   ]
  },
  {
   "cell_type": "markdown",
   "metadata": {},
   "source": [
    "Рассмотрим здесь задачу восстановления зависимости $y = 2\\sin(x)$ на отрезке $(0,7)$.\n",
    "\n",
    "В качестве модели будем использовать полиномы."
   ]
  },
  {
   "cell_type": "code",
   "execution_count": 433,
   "metadata": {},
   "outputs": [
    {
     "data": {
      "text/plain": [
       "array([0.   , 0.241, 0.483, 0.724, 0.966, 1.207, 1.448, 1.69 , 1.931,\n",
       "       2.172, 2.414, 2.655, 2.897, 3.138, 3.379, 3.621, 3.862, 4.103,\n",
       "       4.345, 4.586])"
      ]
     },
     "execution_count": 433,
     "metadata": {},
     "output_type": "execute_result"
    }
   ],
   "source": [
    "N = 30\n",
    "x = np.linspace(0, 7, N)\n",
    "x[:20]"
   ]
  },
  {
   "cell_type": "code",
   "execution_count": 434,
   "metadata": {},
   "outputs": [
    {
     "data": {
      "text/plain": [
       "array([ 0.   ,  0.478,  0.928,  1.325,  1.645,  1.869,  1.985,  1.986,\n",
       "        1.872,  1.649,  1.33 ,  0.935,  0.485,  0.007, -0.471, -0.922,\n",
       "       -1.319, -1.641, -1.866, -1.984])"
      ]
     },
     "execution_count": 434,
     "metadata": {},
     "output_type": "execute_result"
    }
   ],
   "source": [
    "y_true = 2*np.sin(x)\n",
    "y_true[:20]"
   ]
  },
  {
   "cell_type": "code",
   "execution_count": 435,
   "metadata": {},
   "outputs": [
    {
     "data": {
      "text/plain": [
       "array([ 0.915, -0.941,  0.485,  0.   ,  1.645, -1.319,  1.869,  0.007,\n",
       "        0.935, -1.653,  0.478,  0.928, -0.492,  1.325, -1.874, -0.015,\n",
       "       -1.866,  1.314, -1.987,  1.986])"
      ]
     },
     "execution_count": 435,
     "metadata": {},
     "output_type": "execute_result"
    }
   ],
   "source": [
    "x_train, x_test, y_true_train, y_true_test = train_test_split(\n",
    "x, y_true, test_size=0.2, random_state=42)\n",
    "\n",
    "y_true_train[:20]"
   ]
  },
  {
   "cell_type": "code",
   "execution_count": 436,
   "metadata": {},
   "outputs": [
    {
     "data": {
      "text/plain": [
       "array([ 0.464, -0.922, -1.336, -1.641,  1.872,  1.649])"
      ]
     },
     "execution_count": 436,
     "metadata": {},
     "output_type": "execute_result"
    }
   ],
   "source": [
    "y_true_test[:20]"
   ]
  },
  {
   "cell_type": "code",
   "execution_count": 437,
   "metadata": {},
   "outputs": [
    {
     "data": {
      "image/png": "[encoded data removed]",
      "text/plain": [
       "<Figure size 432x288 with 1 Axes>"
      ]
     },
     "metadata": {
      "needs_background": "light"
     },
     "output_type": "display_data"
    }
   ],
   "source": [
    "plt.plot(x, y_true, c='green');"
   ]
  },
  {
   "cell_type": "code",
   "execution_count": 438,
   "metadata": {},
   "outputs": [
    {
     "data": {
      "text/plain": [
       "array([ 0.706, -1.802,  0.149,  0.831,  1.004, -1.333,  2.507,  0.065,\n",
       "        0.389, -2.05 ,  0.036,  0.987, -1.183,  2.489, -2.474,  0.448,\n",
       "       -2.088,  0.871, -4.187,  2.119])"
      ]
     },
     "execution_count": 438,
     "metadata": {},
     "output_type": "execute_result"
    }
   ],
   "source": [
    "y = y_true_train + np.random.normal(0, 1, len(y_true_train))\n",
    "y[:20]"
   ]
  },
  {
   "cell_type": "code",
   "execution_count": 439,
   "metadata": {},
   "outputs": [
    {
     "data": {
      "image/png": "[encoded data removed]",
      "text/plain": [
       "<Figure size 432x288 with 1 Axes>"
      ]
     },
     "metadata": {
      "needs_background": "light"
     },
     "output_type": "display_data"
    }
   ],
   "source": [
    "plt.scatter(x_train, y)\n",
    "plt.plot(x, y_true, c='green');"
   ]
  },
  {
   "cell_type": "markdown",
   "metadata": {},
   "source": [
    "## Polinomial Regression"
   ]
  },
  {
   "cell_type": "code",
   "execution_count": 440,
   "metadata": {},
   "outputs": [
    {
     "name": "stdout",
     "output_type": "stream",
     "text": [
      "[-0.183 -0.183 -0.183 -0.183 -0.183 -0.183 -0.183 -0.183 -0.183 -0.183\n",
      " -0.183 -0.183 -0.183 -0.183 -0.183 -0.183]\n"
     ]
    }
   ],
   "source": [
    "d = 0\n",
    "model = np.poly1d(np.polyfit(x_train, y, d))\n",
    "x_validation = np.linspace(0, 7, 16)\n",
    "y_pred = model(x_validation)\n",
    "print(y_pred)"
   ]
  },
  {
   "cell_type": "code",
   "execution_count": 441,
   "metadata": {},
   "outputs": [
    {
     "name": "stdout",
     "output_type": "stream",
     "text": [
      "1.8680797641639708\n",
      "1.9992460736800208\n",
      "-----------\n",
      "2.643354215756791\n",
      "1.594967252493553\n",
      "-----------\n",
      "2.862318672368772\n",
      "1.4015309914436829\n",
      "-----------\n",
      "3.7665722877376537\n",
      "0.3601779626278401\n",
      "-----------\n",
      "3.820754639650007\n",
      "0.3063371058659918\n",
      "-----------\n",
      "3.976859562072558\n",
      "0.27087218739496793\n",
      "-----------\n"
     ]
    },
    {
     "data": {
      "text/plain": [
       "<matplotlib.legend.Legend at 0x1eeab6539d0>"
      ]
     },
     "execution_count": 441,
     "metadata": {},
     "output_type": "execute_result"
    },
    {
     "data": {
      "image/png": "[encoded data removed]",
      "text/plain": [
       "<Figure size 432x288 with 1 Axes>"
      ]
     },
     "metadata": {
      "needs_background": "light"
     },
     "output_type": "display_data"
    }
   ],
   "source": [
    "for d in range(6):  \n",
    "    model = np.poly1d(np.polyfit(x_train, y, d))\n",
    "\n",
    "    x_validation = np.linspace(0, 7, len(y_true_train))\n",
    "    y_pred = model(x_validation)\n",
    "\n",
    "    plt.scatter(x_train, y)\n",
    "    plt.plot(x_validation, y_pred, label = d);\n",
    "    plt.plot(x, y_true, c='green'); \n",
    "\n",
    "    mse = np.mean((y_true_train - y_pred)**2)\n",
    "    print(mse)\n",
    "\n",
    "    y_pred_test = model(x_test)\n",
    "    mse_test = np.mean((y_true_test - y_pred_test)**2)\n",
    "    print(mse_test)\n",
    "    print(\"-----------\")\n",
    "\n",
    "plt.legend()"
   ]
  },
  {
   "cell_type": "code",
   "execution_count": 442,
   "metadata": {},
   "outputs": [],
   "source": [
    "#3 чем больше N, тем меньше MSE\n",
    "#4 модель точнее"
   ]
  },
  {
   "cell_type": "code",
   "execution_count": 443,
   "metadata": {},
   "outputs": [
    {
     "name": "stdout",
     "output_type": "stream",
     "text": [
      "0.10834309807683241\n"
     ]
    }
   ],
   "source": [
    "#5\n",
    "baseline = np.mean(y_true_train)\n",
    "print(baseline)"
   ]
  },
  {
   "cell_type": "code",
   "execution_count": 444,
   "metadata": {},
   "outputs": [
    {
     "name": "stdout",
     "output_type": "stream",
     "text": [
      "-0.22125992251569104\n",
      "0.5121158653037766\n",
      "-0.15318748654068304\n",
      "0.044483408513142475\n",
      "-0.017312287564878126\n",
      "-0.09213620791298549\n"
     ]
    }
   ],
   "source": [
    "for d in range(6):  \n",
    "    model = np.poly1d(np.polyfit(x_train, y, d))\n",
    "\n",
    "    x_validation = np.linspace(0, 7, len(y_true_train))\n",
    "    y_pred = model(x_validation)\n",
    "    \n",
    "    sumVal1 = 0\n",
    "    for i in range(len(y_pred)): sumVal1 += (y_pred[i] - y_true[i])**2\n",
    "\n",
    "    sumVal2 = 0\n",
    "    for i in range(len(y_true_train)): sumVal2 += (y_true_train[i] - baseline)**2\n",
    "    R_2 = 1 - sumVal1 / sumVal2\n",
    "    print(R_2)"
   ]
  },
  {
   "cell_type": "markdown",
   "metadata": {},
   "source": [
    "### Задания: \n",
    "\n",
    "1. Разбить выборку на train/test в некотором соотношении. \n",
    "2. Вычислить для различных значений $d$ (степень полинома) MSE на train/test. Построить кривые MSE для train/test при различных значениях $d$. \n",
    "3. Как изменяется качество модели, если в нее добавить больше данных (увеличить $N$)? Привести несколько примеров. \n",
    "4. Какие выводы можно сделать из пунктов 2 и 3. Как влияет сложность модели и количество данных на переобучение (overfitting)? \n",
    "\n",
    "Еще одной метрикой качества, которую можно использовать в задаче регрессии, является коэффициент детерминации (coefficient of determination), который показывет долю объясненной дисперсии: \n",
    "\n",
    "$$\n",
    "    R^2 = 1 - \\frac{\\sum_{i=1}^{N}(\\hat{y}_i-y_i)^2}{\\sum_{i=1}^{N} (y_i - \\bar{y})^2}\n",
    "$$\n",
    "\n",
    "$\\bar{y}$ - выборочное среднее (самый простой baseline, который можно взять для нашей задачи - самая простая модель, которую затем можно использовать для сравнения с более сложными моделями).\n",
    "\n",
    "5. Определить $R^2$ для различных $d$. Сделать выводы. \n",
    "6. Ранее было указано, что одним из простых baseline для нашей задачи, *может быть* выборочнее среднее. \n",
    "Расмотрим модель, которая для всех объектов возвращает константное значение (полином нулевой степени): \n",
    "\n",
    "$$\n",
    "\\hat{y} (\\textbf{x}) = w_0\n",
    "$$\n",
    "\n",
    "аналитически определить параметры модели ($w_0$), минимизирующие MSE. \n",
    "\n",
    "7. Определить аналогично baseline для MAE. "
   ]
  },
  {
   "cell_type": "code",
   "execution_count": 445,
   "metadata": {},
   "outputs": [],
   "source": [
    "#6\n",
    "#  dMSE        1    N                '      1    N\n",
    "# ------- =  - - * sum 2(y - y_pred)   => - - * sum 2(y - y_pred) = 0 => y = y_pred => MSE -> min\n",
    "# dy_pred      N   i=1            y_pred    N   i=1\n",
    "\n",
    "# y - среднее арифм"
   ]
  },
  {
   "cell_type": "code",
   "execution_count": 446,
   "metadata": {},
   "outputs": [],
   "source": [
    "#7\n",
    "#  sum i =1 N |y-yi| '       yi - y\n",
    "# (-----------------)   = ---------- => \n",
    "#         N          yi     |yi - y|\n",
    "\n",
    "#  dMAE      1    N          '       yi - y   \n",
    "# ------- =  - * sum |y - yi|   => ----------- = 0 => |yi - y| != 0 && yi - y = 0 (?)\n",
    "#   dyi      N   i=1         yi     |yi - y|  \n",
    "\n",
    "# y - медиана"
   ]
  },
  {
   "cell_type": "markdown",
   "metadata": {},
   "source": [
    "# 2. Linear models\n",
    "## 1. Regression\n",
    "\n",
    "Объекты: $\\textbf{x}_1, \\textbf{x}_2, \\dots, \\textbf{x}_N$\n",
    "\n",
    "Признаки некоторого объекта: $\\textbf{x}=(x_1, \\dots, x_D)$\n",
    "\n",
    "$\\mathcal{D} = (\\textbf{x}_i, y_i)$, $i=1, \\dots, N$ - множество объектов и ответов на них,\n",
    "\n",
    "$\\textbf{X}$ - матрица  объекты-признаки (каждая строка описывает один объект):\n",
    "\n",
    "\n",
    "\n",
    "$$\\textbf{X} = \n",
    "\\begin{bmatrix}\n",
    "x_{1,1} & x_{1,2} & \\dots & x_{1,D}\\\\\n",
    "x_{2,1} & x_{2,2} & \\dots & x_{2,D}\\\\\n",
    "\\dots & \\dots & \\dots & \\dots\\\\\n",
    "x_{N,1} & x_{N,2} & \\dots & x_{N,D}\n",
    "\\end{bmatrix}\n",
    "$$\n",
    "\n",
    "\n",
    "Уравнение регрессии:\n",
    "\n",
    "$$\n",
    "\\hat{y} (\\textbf{x}) = w_0 + w_1x_1 + \\dots + w_D x_D\n",
    "$$\n",
    "\n",
    "здесь $\\hat{y} (\\textbf{x})$ -  предсказание на объекте $\\textbf{x}$. \n",
    "\n",
    "MSE может быть записано в матричной форме:\n",
    "$$\n",
    "\\frac{1}{N}||\\textbf{X}\\textbf{w} - \\textbf{y}||^{2} \\to \\min_{\\textbf{w}}\n",
    "$$\n",
    "\n",
    "Точное решение задачи оптимизации (нормальное уравнение линейной регрессии):\n",
    "\n",
    "$$\n",
    "\\textbf{w}^* = (\\textbf{X}^T \\textbf{X})^{-1} \\textbf{X}^{T} \\textbf{y} \n",
    "$$"
   ]
  },
  {
   "cell_type": "markdown",
   "metadata": {},
   "source": [
    "### Задания:\n",
    "1. Для одномерного случая ($D=1$, $\\hat{y} = w_0 + w_1x$) найти вид выражений для $\\textbf{w}^* = (w_0^*, w_1^*)$, минимизирующее MSE. \n"
   ]
  },
  {
   "cell_type": "code",
   "execution_count": 447,
   "metadata": {},
   "outputs": [],
   "source": [
    "# dMSE         1    N             N\n",
    "# ---- = /// = - * sum 2 xi_l => sum xi_l \n",
    "# dw_l         N   i=1           i=1"
   ]
  },
  {
   "cell_type": "markdown",
   "metadata": {},
   "source": [
    "Далее рассмотрим следующую модельную задачу и данные, на которых нужно будет выполнять задания.  "
   ]
  },
  {
   "cell_type": "code",
   "execution_count": 448,
   "metadata": {},
   "outputs": [
    {
     "data": {
      "text/plain": [
       "array([[0.828, 0.984, 0.079, 0.737],\n",
       "       [0.148, 0.924, 0.007, 0.151],\n",
       "       [0.559, 0.321, 0.102, 0.342],\n",
       "       [0.024, 0.826, 0.62 , 0.651],\n",
       "       [0.262, 0.138, 0.965, 0.648],\n",
       "       [0.589, 0.416, 0.236, 0.668],\n",
       "       [0.3  , 0.62 , 0.194, 0.86 ],\n",
       "       [0.154, 0.411, 0.778, 0.271],\n",
       "       [0.73 , 0.297, 0.873, 0.834],\n",
       "       [0.916, 0.475, 0.735, 0.32 ]])"
      ]
     },
     "execution_count": 448,
     "metadata": {},
     "output_type": "execute_result"
    }
   ],
   "source": [
    "N = 50\n",
    "D = 4\n",
    "# матрица объекты-признаки\n",
    "X = np.random.uniform(0, 1, (N, D))\n",
    "X[:10]"
   ]
  },
  {
   "cell_type": "code",
   "execution_count": 449,
   "metadata": {},
   "outputs": [
    {
     "data": {
      "text/plain": [
       "array([[1.   , 0.828, 0.984, 0.079, 0.737],\n",
       "       [1.   , 0.148, 0.924, 0.007, 0.151],\n",
       "       [1.   , 0.559, 0.321, 0.102, 0.342],\n",
       "       [1.   , 0.024, 0.826, 0.62 , 0.651],\n",
       "       [1.   , 0.262, 0.138, 0.965, 0.648],\n",
       "       [1.   , 0.589, 0.416, 0.236, 0.668],\n",
       "       [1.   , 0.3  , 0.62 , 0.194, 0.86 ],\n",
       "       [1.   , 0.154, 0.411, 0.778, 0.271],\n",
       "       [1.   , 0.73 , 0.297, 0.873, 0.834],\n",
       "       [1.   , 0.916, 0.475, 0.735, 0.32 ]])"
      ]
     },
     "execution_count": 449,
     "metadata": {},
     "output_type": "execute_result"
    }
   ],
   "source": [
    "#  Добавим единичный признак (для w_0)\n",
    "D += 1\n",
    "x_ones = np.ones((N, 1))\n",
    "X = np.hstack((x_ones, X))\n",
    "X[:10]"
   ]
  },
  {
   "cell_type": "code",
   "execution_count": 450,
   "metadata": {},
   "outputs": [
    {
     "data": {
      "text/plain": [
       "array([[-0.283],\n",
       "       [ 1.369],\n",
       "       [ 2.063],\n",
       "       [ 9.35 ],\n",
       "       [ 4.775]])"
      ]
     },
     "execution_count": 450,
     "metadata": {},
     "output_type": "execute_result"
    }
   ],
   "source": [
    "# Вектор весов\n",
    "w_true = np.random.uniform(low=-5, high=10, size=(D, 1))\n",
    "w_true"
   ]
  },
  {
   "cell_type": "code",
   "execution_count": 451,
   "metadata": {},
   "outputs": [
    {
     "data": {
      "text/plain": [
       "array([[ 7.134],\n",
       "       [ 2.613],\n",
       "       [ 3.728],\n",
       "       [10.359],\n",
       "       [12.479],\n",
       "       [ 6.776],\n",
       "       [ 7.326],\n",
       "       [ 9.338],\n",
       "       [13.474],\n",
       "       [10.355]])"
      ]
     },
     "execution_count": 451,
     "metadata": {},
     "output_type": "execute_result"
    }
   ],
   "source": [
    "# Целевая переменная (target)\n",
    "# y = w0 + w1*x_1 + ... + wD*xD\n",
    "y = X@w_true\n",
    "y[:10]"
   ]
  },
  {
   "cell_type": "markdown",
   "metadata": {},
   "source": [
    "Получили следующие вектора и матрицы:  X, y, w_true. "
   ]
  },
  {
   "cell_type": "markdown",
   "metadata": {},
   "source": [
    "### Задания:\n",
    "2. Используя нормальное уравнение линейной регресси, найти значение $\\textbf{w}^*$. "
   ]
  },
  {
   "cell_type": "code",
   "execution_count": 452,
   "metadata": {},
   "outputs": [
    {
     "data": {
      "text/plain": [
       "array([[-0.283],\n",
       "       [ 1.369],\n",
       "       [ 2.063],\n",
       "       [ 9.35 ],\n",
       "       [ 4.775]])"
      ]
     },
     "execution_count": 452,
     "metadata": {},
     "output_type": "execute_result"
    }
   ],
   "source": [
    "#2\n",
    "\n",
    "#W*\n",
    "x_transpon = X.transpose()\n",
    "x_transpon[:10]\n",
    "\n",
    "tempVal = inv(x_transpon.dot(X))\n",
    "tempVal2 = tempVal.dot(x_transpon)\n",
    "tempVal2.dot(y)"
   ]
  },
  {
   "cell_type": "markdown",
   "metadata": {},
   "source": [
    "## 2.1 Gradient descent"
   ]
  },
  {
   "cell_type": "markdown",
   "metadata": {},
   "source": [
    "$$\n",
    "    \\textbf{w}^{(k)} = \\textbf{w}^{(k-1)} - \\alpha_k \\nabla Q\\left(\\textbf{w}^{(k-1)}\\right)\n",
    "$$"
   ]
  },
  {
   "cell_type": "markdown",
   "metadata": {},
   "source": [
    "### Задания: \n",
    "\n",
    "3. Реализовать метод градиентного спуска для одной из указанных функций [Wiki: Тестовые функции для оптимизации](https://ru.wikipedia.org/wiki/%D0%A2%D0%B5%D1%81%D1%82%D0%BE%D0%B2%D1%8B%D0%B5_%D1%84%D1%83%D0%BD%D0%BA%D1%86%D0%B8%D0%B8_%D0%B4%D0%BB%D1%8F_%D0%BE%D0%BF%D1%82%D0%B8%D0%BC%D0%B8%D0%B7%D0%B0%D1%86%D0%B8%D0%B8)\n",
    "\n",
    "4.  Определить вид градиента в случае MSE. Применить метод градиентного спуска для поиска весов линейной регрессии для представленных выше данных.\n",
    "Построить график зависимости эмпирического риска $Q(\\textbf{w}^{(k)})$ от шага $k$.\n",
    "Сравнить с точным решением. "
   ]
  },
  {
   "cell_type": "code",
   "execution_count": 453,
   "metadata": {},
   "outputs": [],
   "source": [
    "# y"
   ]
  },
  {
   "cell_type": "code",
   "execution_count": 454,
   "metadata": {},
   "outputs": [],
   "source": [
    "#3 - 4\n",
    "l = []\n",
    "\n",
    "def gradient_descent(\n",
    "    gradient, start, learn_rate, n_iter = 100, tolerance = 1e-06 ):\n",
    "    vector = start\n",
    "    for _ in range(n_iter):\n",
    "        diff = - learn_rate * gradient(vector)\n",
    "        if np.all(np.abs(diff) <= tolerance):\n",
    "            break\n",
    "        # функция которую оценить - MSE, пересчитывать с новыми векторами, \n",
    "        # собирать в массив, по этому массиву построить график\n",
    "        l.append(vector.copy())\n",
    "        \n",
    "        # print ('vector = ', vector)\n",
    "        # print ('gradient = ', gradient(vector))\n",
    "        # print ('diff =', diff)\n",
    "        vector += diff\n",
    "    return vector\n",
    "\n",
    "#3\n",
    "# WARNING: раскомментив для проверки, не забудьте закомментить обратно, летит 4.\n",
    "# x_opt = gradient_descent(gradient = lambda x: x, start = np.array([1.0, 2.0]), learn_rate = 0.2)\n",
    "\n",
    "# x_opt[0]**2 + x_opt[1]**2"
   ]
  },
  {
   "cell_type": "code",
   "execution_count": 455,
   "metadata": {},
   "outputs": [],
   "source": [
    "# w_true"
   ]
  },
  {
   "cell_type": "code",
   "execution_count": 456,
   "metadata": {},
   "outputs": [],
   "source": [
    "# X"
   ]
  },
  {
   "cell_type": "code",
   "execution_count": 457,
   "metadata": {},
   "outputs": [
    {
     "data": {
      "text/plain": [
       "array([[0.],\n",
       "       [0.],\n",
       "       [0.],\n",
       "       [0.],\n",
       "       [0.]])"
      ]
     },
     "execution_count": 457,
     "metadata": {},
     "output_type": "execute_result"
    }
   ],
   "source": [
    "def grad_MSE (w): \n",
    "    y_pred = X @ w\n",
    "    eps = - 2 * (y - y_pred)\n",
    "    # print(eps.shape)\n",
    "    grad = eps.transpose() @ X\n",
    "    return grad.transpose()\n",
    "\n",
    "grad_MSE(w_true)"
   ]
  },
  {
   "cell_type": "code",
   "execution_count": 458,
   "metadata": {},
   "outputs": [
    {
     "data": {
      "text/plain": [
       "array([[2.715],\n",
       "       [1.06 ],\n",
       "       [1.496],\n",
       "       [6.231],\n",
       "       [2.936]])"
      ]
     },
     "execution_count": 458,
     "metadata": {},
     "output_type": "execute_result"
    }
   ],
   "source": [
    "#4\n",
    "l = []\n",
    "\n",
    "wes = gradient_descent(gradient = grad_MSE, start = w_true * 0, learn_rate = 0.00001, n_iter= 10000)\n",
    "\n",
    "wes"
   ]
  },
  {
   "cell_type": "code",
   "execution_count": 459,
   "metadata": {},
   "outputs": [],
   "source": [
    "# l"
   ]
  },
  {
   "cell_type": "code",
   "execution_count": 460,
   "metadata": {},
   "outputs": [],
   "source": [
    "p = []\n",
    "\n",
    "for i in range (len (l)):\n",
    "    p.append( np.mean((y - X.dot(l[i]))**2) )"
   ]
  },
  {
   "cell_type": "code",
   "execution_count": 461,
   "metadata": {},
   "outputs": [
    {
     "data": {
      "image/png": "[encoded data removed]",
      "text/plain": [
       "<Figure size 432x288 with 1 Axes>"
      ]
     },
     "metadata": {
      "needs_background": "light"
     },
     "output_type": "display_data"
    }
   ],
   "source": [
    "plt.plot(p, c='green');"
   ]
  },
  {
   "cell_type": "markdown",
   "metadata": {},
   "source": [
    "# 2.2 Stochastic gradient descent  (SGD)"
   ]
  },
  {
   "cell_type": "markdown",
   "metadata": {},
   "source": [
    "$$\n",
    "\\nabla Q(\\textbf{w}) \\approx \\frac{1}{n}\\sum_{k=1}^{n} \\nabla l_{i_k}(\\textbf{w})\n",
    "$$"
   ]
  },
  {
   "cell_type": "markdown",
   "metadata": {},
   "source": [
    "5.  Применить метод стохастического градиентного спуска для поиска весов линейной регрессии (при разных размерах батча) для представленных выше данных.\n",
    "Построить график зависимости эмпирического риска $Q(w(k))$ от шага $k$. Сравнить скорость сходимости с методом градиентного спуска. \n",
    "Сравнить с точным решением. "
   ]
  },
  {
   "cell_type": "code",
   "execution_count": 462,
   "metadata": {},
   "outputs": [
    {
     "data": {
      "text/plain": [
       "array([[-0.283],\n",
       "       [ 1.369],\n",
       "       [ 2.063],\n",
       "       [ 9.35 ],\n",
       "       [ 4.775]])"
      ]
     },
     "execution_count": 462,
     "metadata": {},
     "output_type": "execute_result"
    }
   ],
   "source": [
    "w_true"
   ]
  },
  {
   "cell_type": "code",
   "execution_count": 463,
   "metadata": {},
   "outputs": [
    {
     "name": "stdout",
     "output_type": "stream",
     "text": [
      "[[-0.283]\n",
      " [ 1.369]\n",
      " [ 2.063]\n",
      " [ 9.349]\n",
      " [ 4.775]]\n",
      "[[-0.283]\n",
      " [ 1.369]\n",
      " [ 2.063]\n",
      " [ 9.35 ]\n",
      " [ 4.775]]\n"
     ]
    }
   ],
   "source": [
    "# def SGD(X, h, λ):  # где X − выборка, h − градиентный шаг, а λ − темп забывания \n",
    "#    w= initialize_weights()  # инициализировать веса \n",
    "#    Q¯¯¯¯=1l∑li=1Li(w) # инициализировать оценку функционала \n",
    "#    while Q not converges or w not converges:\n",
    "    #    i= rand() % l  # случайно выбрать элемент, по которому будет считаться градиент \n",
    "    #    ε=Li(w)  # вычислить потерю \n",
    "    #    w=w−h∇Li(w) # обновить вектор весов в направлении антиградиента\n",
    "    #    Q¯¯¯¯=λε+(1−λ)Q¯¯¯¯ # оценить функционал\n",
    "#    return w\n",
    "\n",
    "l = []\n",
    "\n",
    "def stohast_grad_MSE (w):\n",
    "    i = np.random.randint(0, len(X)) \n",
    "    y_pred = X[i].dot(w)\n",
    "    eps = - 2 * (y[i] - y_pred)\n",
    "    # print(eps.shape)\n",
    "    grad = eps * X[i]\n",
    "    # print(grad.reshape(-1, 1))\n",
    "    return grad.reshape(-1, 1)\n",
    "\n",
    "\n",
    "def stohast_gradient_descent(\n",
    "    gradient, start, learn_rate, n_iter = 100, tolerance = 1e-06 ):\n",
    "    vector = start\n",
    "    for _ in range(n_iter):\n",
    "        diff = - learn_rate * gradient(vector)\n",
    "        if np.all(np.abs(diff) <= tolerance):\n",
    "            break\n",
    "        # функция которую оценить - MSE, пересчитывать с новыми векторами, \n",
    "        # собирать в массив, по этому массиву построить график\n",
    "        l.append(vector.copy())\n",
    "        \n",
    "        # print ('vector = ', vector)\n",
    "        # print ('gradient = ', gradient(vector))\n",
    "        # print ('diff =', diff)\n",
    "\n",
    "        vector += diff\n",
    "    return vector\n",
    "\n",
    "        \n",
    "test = stohast_gradient_descent(gradient = stohast_grad_MSE, start = w_true * 0, learn_rate = 0.1, n_iter= 100000)\n",
    "\n",
    "print(test)\n",
    "print(w_true)"
   ]
  },
  {
   "cell_type": "code",
   "execution_count": 464,
   "metadata": {},
   "outputs": [],
   "source": [
    "p = []\n",
    "\n",
    "for i in range (len (l)):\n",
    "    p.append( np.mean((y - X.dot(l[i]))**2) )"
   ]
  },
  {
   "cell_type": "code",
   "execution_count": 465,
   "metadata": {},
   "outputs": [
    {
     "data": {
      "image/png": "[encoded data removed]",
      "text/plain": [
       "<Figure size 432x288 with 1 Axes>"
      ]
     },
     "metadata": {
      "needs_background": "light"
     },
     "output_type": "display_data"
    }
   ],
   "source": [
    "plt.plot(p, c='green');"
   ]
  }
 ],
 "metadata": {
  "interpreter": {
   "hash": "b3ba2566441a7c06988d0923437866b63cedc61552a5af99d1f4fb67d367b25f"
  },
  "kernelspec": {
   "display_name": "Python 3.8.8 64-bit ('base': conda)",
   "name": "python3"
  },
  "language_info": {
   "codemirror_mode": {
    "name": "ipython",
    "version": 3
   },
   "file_extension": ".py",
   "mimetype": "text/x-python",
   "name": "python",
   "nbconvert_exporter": "python",
   "pygments_lexer": "ipython3",
   "version": "3.8.8"
  }
 },
 "nbformat": 4,
 "nbformat_minor": 5
}
