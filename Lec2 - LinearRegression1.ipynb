{
 "cells": [
  {
   "cell_type": "markdown",
   "metadata": {},
   "source": [
    "\n",
    "<a href=\"https://colab.research.google.com/github/OsipovOleg/crash-python-notebooks/blob/master/scientific_computing.ipynb\">\n",
    "  <img src=\"https://colab.research.google.com/assets/colab-badge.svg\" alt=\"Open In Colab\"/>\n",
    "</a>\n"
   ]
  },
  {
   "cell_type": "code",
   "execution_count": 1,
   "metadata": {},
   "outputs": [],
   "source": [
    "import numpy as np\n",
    "import matplotlib.pyplot as plt\n",
    "np.set_printoptions(precision=3)\n",
    "from sklearn.model_selection import train_test_split\n",
    "from numpy.linalg import inv"
   ]
  },
  {
   "cell_type": "markdown",
   "metadata": {},
   "source": [
    "Для краткого знакомства с numpy:\n",
    "- [A Quick Introduction to the NumPy Library](https://towardsdatascience.com/a-quick-introduction-to-the-numpy-library-6f61b7dee4db)\n",
    "- [NumPy Cheat Sheet](https://s3.amazonaws.com/assets.datacamp.com/blog_assets/Numpy_Python_Cheat_Sheet.pdf)\n",
    "- [Examples](https://github.com/OsipovOleg/crash-python-notebooks/blob/master/scientific_computing.ipynb)"
   ]
  },
  {
   "cell_type": "markdown",
   "metadata": {},
   "source": [
    "# 1. Overfitting/Underfitting"
   ]
  },
  {
   "cell_type": "markdown",
   "metadata": {},
   "source": [
    "Рассмотрим здесь задачу восстановления зависимости $y = 2\\sin(x)$ на отрезке $(0,7)$.\n",
    "\n",
    "В качестве модели будем использовать полиномы."
   ]
  },
  {
   "cell_type": "code",
   "execution_count": 2,
   "metadata": {},
   "outputs": [
    {
     "data": {
      "text/plain": [
       "array([0.   , 0.241, 0.483, 0.724, 0.966, 1.207, 1.448, 1.69 , 1.931,\n",
       "       2.172, 2.414, 2.655, 2.897, 3.138, 3.379, 3.621, 3.862, 4.103,\n",
       "       4.345, 4.586])"
      ]
     },
     "execution_count": 2,
     "metadata": {},
     "output_type": "execute_result"
    }
   ],
   "source": [
    "N = 30\n",
    "x = np.linspace(0, 7, N)\n",
    "x[:20]"
   ]
  },
  {
   "cell_type": "code",
   "execution_count": 3,
   "metadata": {},
   "outputs": [
    {
     "data": {
      "text/plain": [
       "array([ 0.   ,  0.478,  0.928,  1.325,  1.645,  1.869,  1.985,  1.986,\n",
       "        1.872,  1.649,  1.33 ,  0.935,  0.485,  0.007, -0.471, -0.922,\n",
       "       -1.319, -1.641, -1.866, -1.984])"
      ]
     },
     "execution_count": 3,
     "metadata": {},
     "output_type": "execute_result"
    }
   ],
   "source": [
    "y_true = 2*np.sin(x)\n",
    "y_true[:20]"
   ]
  },
  {
   "cell_type": "code",
   "execution_count": 4,
   "metadata": {},
   "outputs": [
    {
     "data": {
      "text/plain": [
       "array([ 0.915, -0.941,  0.485,  0.   ,  1.645, -1.319,  1.869,  0.007,\n",
       "        0.935, -1.653,  0.478,  0.928, -0.492,  1.325, -1.874, -0.015,\n",
       "       -1.866,  1.314, -1.987,  1.986])"
      ]
     },
     "execution_count": 4,
     "metadata": {},
     "output_type": "execute_result"
    }
   ],
   "source": [
    "x_train, x_test, y_true_train, y_true_test = train_test_split(\n",
    "x, y_true, test_size=0.2, random_state=42)\n",
    "\n",
    "y_true_train[:20]"
   ]
  },
  {
   "cell_type": "code",
   "execution_count": 5,
   "metadata": {},
   "outputs": [
    {
     "data": {
      "text/plain": [
       "array([ 0.464, -0.922, -1.336, -1.641,  1.872,  1.649])"
      ]
     },
     "execution_count": 5,
     "metadata": {},
     "output_type": "execute_result"
    }
   ],
   "source": [
    "y_true_test[:20]"
   ]
  },
  {
   "cell_type": "code",
   "execution_count": 6,
   "metadata": {},
   "outputs": [
    {
     "data": {
      "image/png": "[encoded data removed]",
      "text/plain": [
       "<Figure size 432x288 with 1 Axes>"
      ]
     },
     "metadata": {
      "needs_background": "light"
     },
     "output_type": "display_data"
    }
   ],
   "source": [
    "plt.plot(x, y_true, c='green');"
   ]
  },
  {
   "cell_type": "code",
   "execution_count": 7,
   "metadata": {},
   "outputs": [
    {
     "data": {
      "text/plain": [
       "array([ 0.876, -2.056,  0.552,  0.845,  1.556, -1.109,  2.425, -1.52 ,\n",
       "        1.245, -0.402, -0.72 ,  2.102, -0.207,  1.503, -0.721, -0.503,\n",
       "       -3.943,  2.722, -2.104,  1.467])"
      ]
     },
     "execution_count": 7,
     "metadata": {},
     "output_type": "execute_result"
    }
   ],
   "source": [
    "y = y_true_train + np.random.normal(0, 1, len(y_true_train))\n",
    "y[:20]"
   ]
  },
  {
   "cell_type": "code",
   "execution_count": 8,
   "metadata": {},
   "outputs": [
    {
     "data": {
      "image/png": "[encoded data removed]",
      "text/plain": [
       "<Figure size 432x288 with 1 Axes>"
      ]
     },
     "metadata": {
      "needs_background": "light"
     },
     "output_type": "display_data"
    }
   ],
   "source": [
    "plt.scatter(x_train, y)\n",
    "plt.plot(x, y_true, c='green');"
   ]
  },
  {
   "cell_type": "markdown",
   "metadata": {},
   "source": [
    "## Polinomial Regression"
   ]
  },
  {
   "cell_type": "code",
   "execution_count": 9,
   "metadata": {},
   "outputs": [
    {
     "name": "stdout",
     "output_type": "stream",
     "text": [
      "[0.169 0.169 0.169 0.169 0.169 0.169 0.169 0.169 0.169 0.169 0.169 0.169\n",
      " 0.169 0.169 0.169 0.169]\n"
     ]
    }
   ],
   "source": [
    "d = 0\n",
    "model = np.poly1d(np.polyfit(x_train, y, d))\n",
    "x_validation = np.linspace(0, 7, 16)\n",
    "y_pred = model(x_validation)\n",
    "print(y_pred)"
   ]
  },
  {
   "cell_type": "code",
   "execution_count": 10,
   "metadata": {},
   "outputs": [
    {
     "name": "stdout",
     "output_type": "stream",
     "text": [
      "1.7868424627492694\n",
      "1.984293348375478\n",
      "-----------\n",
      "2.0745510085208414\n",
      "1.451382330657801\n",
      "-----------\n",
      "2.2337420270534554\n",
      "1.2030821696550709\n",
      "-----------\n",
      "3.009976783542033\n",
      "0.06930509816705298\n",
      "-----------\n",
      "3.023976265785574\n",
      "0.045198805999774584\n",
      "-----------\n",
      "3.051895271486997\n",
      "0.023992056867149086\n",
      "-----------\n"
     ]
    },
    {
     "data": {
      "text/plain": [
       "<matplotlib.legend.Legend at 0x2dcf744aca0>"
      ]
     },
     "execution_count": 10,
     "metadata": {},
     "output_type": "execute_result"
    },
    {
     "data": {
      "image/png": "[encoded data removed]",
      "text/plain": [
       "<Figure size 432x288 with 1 Axes>"
      ]
     },
     "metadata": {
      "needs_background": "light"
     },
     "output_type": "display_data"
    }
   ],
   "source": [
    "for d in range(6):  \n",
    "    model = np.poly1d(np.polyfit(x_train, y, d))\n",
    "\n",
    "    x_validation = np.linspace(0, 7, len(y_true_train))\n",
    "    y_pred = model(x_validation)\n",
    "\n",
    "    plt.scatter(x_train, y)\n",
    "    plt.plot(x_validation, y_pred, label = d);\n",
    "    plt.plot(x, y_true, c='green'); \n",
    "\n",
    "    mse = np.mean((y_true_train - y_pred)**2)\n",
    "    print(mse)\n",
    "\n",
    "    y_pred_test = model(x_test)\n",
    "    mse_test = np.mean((y_true_test - y_pred_test)**2)\n",
    "    print(mse_test)\n",
    "    print(\"-----------\")\n",
    "\n",
    "plt.legend()"
   ]
  },
  {
   "cell_type": "code",
   "execution_count": 11,
   "metadata": {},
   "outputs": [],
   "source": [
    "#3 чем больше N, тем меньше MSE\n",
    "#4 модель точнее"
   ]
  },
  {
   "cell_type": "code",
   "execution_count": 12,
   "metadata": {},
   "outputs": [
    {
     "name": "stdout",
     "output_type": "stream",
     "text": [
      "0.10834309807683241\n"
     ]
    }
   ],
   "source": [
    "#5\n",
    "baseline = np.mean(y_true_train)\n",
    "print(baseline)"
   ]
  },
  {
   "cell_type": "code",
   "execution_count": 13,
   "metadata": {},
   "outputs": [
    {
     "name": "stdout",
     "output_type": "stream",
     "text": [
      "-0.19479423518745498\n",
      "0.416174509446931\n",
      "-0.16522117298245487\n",
      "0.0605865233114502\n",
      "0.038864502053061134\n",
      "0.027797299712835066\n"
     ]
    }
   ],
   "source": [
    "for d in range(6):  \n",
    "    model = np.poly1d(np.polyfit(x_train, y, d))\n",
    "\n",
    "    x_validation = np.linspace(0, 7, len(y_true_train))\n",
    "    y_pred = model(x_validation)\n",
    "    \n",
    "    sumVal1 = 0\n",
    "    for i in range(len(y_pred)): sumVal1 += (y_pred[i] - y_true[i])**2\n",
    "\n",
    "    sumVal2 = 0\n",
    "    for i in range(len(y_true_train)): sumVal2 += (y_true_train[i] - baseline)**2\n",
    "    R_2 = 1 - sumVal1 / sumVal2\n",
    "    print(R_2)"
   ]
  },
  {
   "cell_type": "markdown",
   "metadata": {},
   "source": [
    "### Задания: \n",
    "\n",
    "1. Разбить выборку на train/test в некотором соотношении. \n",
    "2. Вычислить для различных значений $d$ (степень полинома) MSE на train/test. Построить кривые MSE для train/test при различных значениях $d$. \n",
    "3. Как изменяется качество модели, если в нее добавить больше данных (увеличить $N$)? Привести несколько примеров. \n",
    "4. Какие выводы можно сделать из пунктов 2 и 3. Как влияет сложность модели и количество данных на переобучение (overfitting)? \n",
    "\n",
    "Еще одной метрикой качества, которую можно использовать в задаче регрессии, является коэффициент детерминации (coefficient of determination), который показывет долю объясненной дисперсии: \n",
    "\n",
    "$$\n",
    "    R^2 = 1 - \\frac{\\sum_{i=1}^{N}(\\hat{y}_i-y_i)^2}{\\sum_{i=1}^{N} (y_i - \\bar{y})^2}\n",
    "$$\n",
    "\n",
    "$\\bar{y}$ - выборочное среднее (самый простой baseline, который можно взять для нашей задачи - самая простая модель, которую затем можно использовать для сравнения с более сложными моделями).\n",
    "\n",
    "5. Определить $R^2$ для различных $d$. Сделать выводы. \n",
    "6. Ранее было указано, что одним из простых baseline для нашей задачи, *может быть* выборочнее среднее. \n",
    "Расмотрим модель, которая для всех объектов возвращает константное значение (полином нулевой степени): \n",
    "\n",
    "$$\n",
    "\\hat{y} (\\textbf{x}) = w_0\n",
    "$$\n",
    "\n",
    "аналитически определить параметры модели ($w_0$), минимизирующие MSE. \n",
    "\n",
    "7. Определить аналогично baseline для MAE. "
   ]
  },
  {
   "cell_type": "code",
   "execution_count": 14,
   "metadata": {},
   "outputs": [],
   "source": [
    "#6"
   ]
  },
  {
   "cell_type": "code",
   "execution_count": 15,
   "metadata": {},
   "outputs": [],
   "source": [
    "#7\n",
    "#  sum i =1 N |y-yi| '       yi - y\n",
    "# (-----------------)   => ----------\n",
    "#         N          yi     |yi - y|"
   ]
  },
  {
   "cell_type": "markdown",
   "metadata": {},
   "source": [
    "# 2. Linear models\n",
    "## 1. Regression\n",
    "\n",
    "Объекты: $\\textbf{x}_1, \\textbf{x}_2, \\dots, \\textbf{x}_N$\n",
    "\n",
    "Признаки некоторого объекта: $\\textbf{x}=(x_1, \\dots, x_D)$\n",
    "\n",
    "$\\mathcal{D} = (\\textbf{x}_i, y_i)$, $i=1, \\dots, N$ - множество объектов и ответов на них,\n",
    "\n",
    "$\\textbf{X}$ - матрица  объекты-признаки (каждая строка описывает один объект):\n",
    "\n",
    "\n",
    "\n",
    "$$\\textbf{X} = \n",
    "\\begin{bmatrix}\n",
    "x_{1,1} & x_{1,2} & \\dots & x_{1,D}\\\\\n",
    "x_{2,1} & x_{2,2} & \\dots & x_{2,D}\\\\\n",
    "\\dots & \\dots & \\dots & \\dots\\\\\n",
    "x_{N,1} & x_{N,2} & \\dots & x_{N,D}\n",
    "\\end{bmatrix}\n",
    "$$\n",
    "\n",
    "\n",
    "Уравнение регрессии:\n",
    "\n",
    "$$\n",
    "\\hat{y} (\\textbf{x}) = w_0 + w_1x_1 + \\dots + w_D x_D\n",
    "$$\n",
    "\n",
    "здесь $\\hat{y} (\\textbf{x})$ -  предсказание на объекте $\\textbf{x}$. \n",
    "\n",
    "MSE может быть записано в матричной форме:\n",
    "$$\n",
    "\\frac{1}{N}||\\textbf{X}\\textbf{w} - \\textbf{y}||^{2} \\to \\min_{\\textbf{w}}\n",
    "$$\n",
    "\n",
    "Точное решение задачи оптимизации (нормальное уравнение линейной регрессии):\n",
    "\n",
    "$$\n",
    "\\textbf{w}^* = (\\textbf{X}^T \\textbf{X})^{-1} \\textbf{X}^{T} \\textbf{y} \n",
    "$$"
   ]
  },
  {
   "cell_type": "markdown",
   "metadata": {},
   "source": [
    "### Задания:\n",
    "1. Для одномерного случая ($D=1$, $\\hat{y} = w_0 + w_1x$) найти вид выражений для $\\textbf{w}^* = (w_0^*, w_1^*)$, минимизирующее MSE. \n"
   ]
  },
  {
   "cell_type": "markdown",
   "metadata": {},
   "source": [
    "Далее рассмотрим следующую модельную задачу и данные, на которых нужно будет выполнять задания.  "
   ]
  },
  {
   "cell_type": "code",
   "execution_count": 16,
   "metadata": {},
   "outputs": [
    {
     "data": {
      "text/plain": [
       "array([[0.424, 0.404, 0.385, 0.359],\n",
       "       [0.283, 0.262, 0.956, 0.106],\n",
       "       [0.375, 0.109, 0.067, 0.607],\n",
       "       [0.665, 0.632, 0.892, 0.425],\n",
       "       [0.323, 0.175, 0.407, 0.588],\n",
       "       [0.621, 0.953, 0.317, 0.293],\n",
       "       [0.493, 0.33 , 0.827, 0.557],\n",
       "       [0.133, 0.941, 0.495, 0.48 ],\n",
       "       [0.683, 0.801, 0.205, 0.2  ],\n",
       "       [0.792, 0.756, 0.804, 0.212]])"
      ]
     },
     "execution_count": 16,
     "metadata": {},
     "output_type": "execute_result"
    }
   ],
   "source": [
    "N = 50\n",
    "D = 4\n",
    "# матрица объекты-признаки\n",
    "X = np.random.uniform(0, 1, (N, D))\n",
    "X[:10]"
   ]
  },
  {
   "cell_type": "code",
   "execution_count": 17,
   "metadata": {},
   "outputs": [
    {
     "data": {
      "text/plain": [
       "array([[1.   , 0.424, 0.404, 0.385, 0.359],\n",
       "       [1.   , 0.283, 0.262, 0.956, 0.106],\n",
       "       [1.   , 0.375, 0.109, 0.067, 0.607],\n",
       "       [1.   , 0.665, 0.632, 0.892, 0.425],\n",
       "       [1.   , 0.323, 0.175, 0.407, 0.588],\n",
       "       [1.   , 0.621, 0.953, 0.317, 0.293],\n",
       "       [1.   , 0.493, 0.33 , 0.827, 0.557],\n",
       "       [1.   , 0.133, 0.941, 0.495, 0.48 ],\n",
       "       [1.   , 0.683, 0.801, 0.205, 0.2  ],\n",
       "       [1.   , 0.792, 0.756, 0.804, 0.212]])"
      ]
     },
     "execution_count": 17,
     "metadata": {},
     "output_type": "execute_result"
    }
   ],
   "source": [
    "#  Добавим единичный признак (для w_0)\n",
    "D += 1\n",
    "x_ones = np.ones((N, 1))\n",
    "X = np.hstack((x_ones, X))\n",
    "X[:10]"
   ]
  },
  {
   "cell_type": "code",
   "execution_count": 18,
   "metadata": {},
   "outputs": [
    {
     "data": {
      "text/plain": [
       "array([[8.041],\n",
       "       [7.912],\n",
       "       [1.062],\n",
       "       [6.495],\n",
       "       [5.965]])"
      ]
     },
     "execution_count": 18,
     "metadata": {},
     "output_type": "execute_result"
    }
   ],
   "source": [
    "# Вектор весов\n",
    "w_true = np.random.uniform(low=-5, high=10, size=(D, 1))\n",
    "w_true"
   ]
  },
  {
   "cell_type": "code",
   "execution_count": 19,
   "metadata": {},
   "outputs": [
    {
     "data": {
      "text/plain": [
       "array([[16.47 ],\n",
       "       [17.402],\n",
       "       [15.18 ],\n",
       "       [22.303],\n",
       "       [16.934],\n",
       "       [17.77 ],\n",
       "       [20.987],\n",
       "       [16.173],\n",
       "       [16.819],\n",
       "       [21.591]])"
      ]
     },
     "execution_count": 19,
     "metadata": {},
     "output_type": "execute_result"
    }
   ],
   "source": [
    "# Целевая переменная (target)\n",
    "# y = w0 + w1*x_1 + ... + wD*xD\n",
    "y = X@w_true\n",
    "y[:10]"
   ]
  },
  {
   "cell_type": "markdown",
   "metadata": {},
   "source": [
    "Получили следующие вектора и матрицы:  X, y, w_true. "
   ]
  },
  {
   "cell_type": "markdown",
   "metadata": {},
   "source": [
    "### Задания:\n",
    "2. Используя нормальное уравнение линейной регресси, найти значение $\\textbf{w}^*$. "
   ]
  },
  {
   "cell_type": "code",
   "execution_count": 20,
   "metadata": {},
   "outputs": [
    {
     "data": {
      "text/plain": [
       "array([[8.041],\n",
       "       [7.912],\n",
       "       [1.062],\n",
       "       [6.495],\n",
       "       [5.965]])"
      ]
     },
     "execution_count": 20,
     "metadata": {},
     "output_type": "execute_result"
    }
   ],
   "source": [
    "#W*\n",
    "x_transpon = X.transpose()\n",
    "x_transpon[:10]\n",
    "\n",
    "tempVal = inv(x_transpon.dot(X))\n",
    "tempVal2 = tempVal.dot(x_transpon)\n",
    "tempVal2.dot(y)"
   ]
  },
  {
   "cell_type": "markdown",
   "metadata": {},
   "source": [
    "## 2.1 Gradient descent"
   ]
  },
  {
   "cell_type": "markdown",
   "metadata": {},
   "source": [
    "$$\n",
    "    \\textbf{w}^{(k)} = \\textbf{w}^{(k-1)} - \\alpha_k \\nabla Q\\left(\\textbf{w}^{(k-1)}\\right)\n",
    "$$"
   ]
  },
  {
   "cell_type": "markdown",
   "metadata": {},
   "source": [
    "### Задания: \n",
    "\n",
    "3. Реализовать метод градиентного спуска для одной из указанных функций [Wiki: Тестовые функции для оптимизации](https://ru.wikipedia.org/wiki/%D0%A2%D0%B5%D1%81%D1%82%D0%BE%D0%B2%D1%8B%D0%B5_%D1%84%D1%83%D0%BD%D0%BA%D1%86%D0%B8%D0%B8_%D0%B4%D0%BB%D1%8F_%D0%BE%D0%BF%D1%82%D0%B8%D0%BC%D0%B8%D0%B7%D0%B0%D1%86%D0%B8%D0%B8)\n",
    "\n",
    "4.  Определить вид градиента в случае MSE. Применить метод градиентного спуска для поиска весов линейной регрессии для представленных выше данных.\n",
    "Построить график зависимости эмпирического риска $Q(\\textbf{w}^{(k)})$ от шага $k$.\n",
    "Сравнить с точным решением. "
   ]
  },
  {
   "cell_type": "code",
   "execution_count": 21,
   "metadata": {},
   "outputs": [
    {
     "data": {
      "text/plain": [
       "array([[16.47 ],\n",
       "       [17.402],\n",
       "       [15.18 ],\n",
       "       [22.303],\n",
       "       [16.934],\n",
       "       [17.77 ],\n",
       "       [20.987],\n",
       "       [16.173],\n",
       "       [16.819],\n",
       "       [21.591],\n",
       "       [17.468],\n",
       "       [21.022],\n",
       "       [21.941],\n",
       "       [24.605],\n",
       "       [18.879],\n",
       "       [19.784],\n",
       "       [19.413],\n",
       "       [20.815],\n",
       "       [13.85 ],\n",
       "       [25.225],\n",
       "       [12.979],\n",
       "       [15.048],\n",
       "       [13.977],\n",
       "       [19.728],\n",
       "       [25.033],\n",
       "       [17.344],\n",
       "       [16.926],\n",
       "       [17.097],\n",
       "       [17.378],\n",
       "       [19.531],\n",
       "       [13.873],\n",
       "       [18.302],\n",
       "       [16.613],\n",
       "       [15.878],\n",
       "       [19.572],\n",
       "       [21.033],\n",
       "       [22.56 ],\n",
       "       [14.025],\n",
       "       [13.853],\n",
       "       [18.816],\n",
       "       [12.298],\n",
       "       [24.784],\n",
       "       [19.684],\n",
       "       [22.622],\n",
       "       [10.955],\n",
       "       [21.674],\n",
       "       [22.128],\n",
       "       [15.167],\n",
       "       [19.807],\n",
       "       [22.314]])"
      ]
     },
     "execution_count": 21,
     "metadata": {},
     "output_type": "execute_result"
    }
   ],
   "source": [
    "y"
   ]
  },
  {
   "cell_type": "code",
   "execution_count": 22,
   "metadata": {},
   "outputs": [],
   "source": [
    "#3 - 4\n",
    "l = []\n",
    "\n",
    "def gradient_descent(\n",
    "    gradient, start, learn_rate, n_iter = 100, tolerance = 1e-06 ):\n",
    "    vector = start\n",
    "    for _ in range(n_iter):\n",
    "        diff = - learn_rate * gradient(vector)\n",
    "        if np.all(np.abs(diff) <= tolerance):\n",
    "            break\n",
    "        # функция которую оценить - MSE, пересчитывать с новыми векторами, собирать в массив, по этому массиву построить график\n",
    "        temp_mse = np.mean((y - gradient(vector))**2)\n",
    "        l.append(temp_mse)\n",
    "        \n",
    "        # print ('vector = ', vector)\n",
    "        # print ('gradient = ', gradient(vector))\n",
    "        # print ('diff =', diff)\n",
    "        vector += diff\n",
    "    return vector\n",
    "\n",
    "#3\n",
    "# x_opt = gradient_descent(gradient = lambda x: x, start = np.array([1.0, 2.0]), learn_rate = 0.2)\n",
    "\n",
    "# x_opt[0]**2 + x_opt[1]**2"
   ]
  },
  {
   "cell_type": "code",
   "execution_count": 23,
   "metadata": {},
   "outputs": [
    {
     "data": {
      "text/plain": [
       "array([[8.041],\n",
       "       [7.912],\n",
       "       [1.062],\n",
       "       [6.495],\n",
       "       [5.965]])"
      ]
     },
     "execution_count": 23,
     "metadata": {},
     "output_type": "execute_result"
    }
   ],
   "source": [
    "w_true"
   ]
  },
  {
   "cell_type": "code",
   "execution_count": 24,
   "metadata": {},
   "outputs": [],
   "source": [
    "# X"
   ]
  },
  {
   "cell_type": "code",
   "execution_count": 25,
   "metadata": {},
   "outputs": [
    {
     "data": {
      "text/plain": [
       "array([[0.],\n",
       "       [0.],\n",
       "       [0.],\n",
       "       [0.],\n",
       "       [0.]])"
      ]
     },
     "execution_count": 25,
     "metadata": {},
     "output_type": "execute_result"
    }
   ],
   "source": [
    "def grad_MSE (w): \n",
    "    y_pred = X @ w\n",
    "    eps = - 2 * (y - y_pred)\n",
    "    # print(eps.shape)\n",
    "    grad = eps.transpose() @ X\n",
    "    return grad.transpose()\n",
    "\n",
    "grad_MSE(w_true)"
   ]
  },
  {
   "cell_type": "code",
   "execution_count": 26,
   "metadata": {},
   "outputs": [
    {
     "ename": "ValueError",
     "evalue": "operands could not be broadcast together with shapes (50,1) (5,1) ",
     "output_type": "error",
     "traceback": [
      "\u001b[1;31m---------------------------------------------------------------------------\u001b[0m",
      "\u001b[1;31mValueError\u001b[0m                                Traceback (most recent call last)",
      "\u001b[1;32m<ipython-input-26-6eeb27a7eb54>\u001b[0m in \u001b[0;36m<module>\u001b[1;34m\u001b[0m\n\u001b[0;32m      1\u001b[0m \u001b[1;31m#4\u001b[0m\u001b[1;33m\u001b[0m\u001b[1;33m\u001b[0m\u001b[1;33m\u001b[0m\u001b[0m\n\u001b[1;32m----> 2\u001b[1;33m \u001b[0mx_mse_grad\u001b[0m \u001b[1;33m=\u001b[0m \u001b[0mgradient_descent\u001b[0m\u001b[1;33m(\u001b[0m\u001b[0mgradient\u001b[0m \u001b[1;33m=\u001b[0m \u001b[0mgrad_MSE\u001b[0m\u001b[1;33m,\u001b[0m \u001b[0mstart\u001b[0m \u001b[1;33m=\u001b[0m \u001b[0mw_true\u001b[0m \u001b[1;33m*\u001b[0m \u001b[1;36m0\u001b[0m\u001b[1;33m,\u001b[0m \u001b[0mlearn_rate\u001b[0m \u001b[1;33m=\u001b[0m \u001b[1;36m0.00001\u001b[0m\u001b[1;33m,\u001b[0m \u001b[0mn_iter\u001b[0m\u001b[1;33m=\u001b[0m \u001b[1;36m100000\u001b[0m\u001b[1;33m)\u001b[0m\u001b[1;33m\u001b[0m\u001b[1;33m\u001b[0m\u001b[0m\n\u001b[0m\u001b[0;32m      3\u001b[0m \u001b[1;33m\u001b[0m\u001b[0m\n\u001b[0;32m      4\u001b[0m \u001b[0mprint\u001b[0m \u001b[1;33m(\u001b[0m\u001b[0mx_mse_grad\u001b[0m\u001b[1;33m)\u001b[0m\u001b[1;33m\u001b[0m\u001b[1;33m\u001b[0m\u001b[0m\n",
      "\u001b[1;32m<ipython-input-22-52fb3740e475>\u001b[0m in \u001b[0;36mgradient_descent\u001b[1;34m(gradient, start, learn_rate, n_iter, tolerance)\u001b[0m\n\u001b[0;32m     10\u001b[0m             \u001b[1;32mbreak\u001b[0m\u001b[1;33m\u001b[0m\u001b[1;33m\u001b[0m\u001b[0m\n\u001b[0;32m     11\u001b[0m         \u001b[1;31m# функция которую оценить - MSE, пересчитывать с новыми векторами, собирать в массив, по этому массиву построить график\u001b[0m\u001b[1;33m\u001b[0m\u001b[1;33m\u001b[0m\u001b[1;33m\u001b[0m\u001b[0m\n\u001b[1;32m---> 12\u001b[1;33m         \u001b[0mtemp_mse\u001b[0m \u001b[1;33m=\u001b[0m \u001b[0mnp\u001b[0m\u001b[1;33m.\u001b[0m\u001b[0mmean\u001b[0m\u001b[1;33m(\u001b[0m\u001b[1;33m(\u001b[0m\u001b[0my\u001b[0m \u001b[1;33m-\u001b[0m \u001b[0mgradient\u001b[0m\u001b[1;33m(\u001b[0m\u001b[0mvector\u001b[0m\u001b[1;33m)\u001b[0m\u001b[1;33m)\u001b[0m\u001b[1;33m**\u001b[0m\u001b[1;36m2\u001b[0m\u001b[1;33m)\u001b[0m\u001b[1;33m\u001b[0m\u001b[1;33m\u001b[0m\u001b[0m\n\u001b[0m\u001b[0;32m     13\u001b[0m         \u001b[0ml\u001b[0m\u001b[1;33m.\u001b[0m\u001b[0mappend\u001b[0m\u001b[1;33m(\u001b[0m\u001b[0mtemp_mse\u001b[0m\u001b[1;33m)\u001b[0m\u001b[1;33m\u001b[0m\u001b[1;33m\u001b[0m\u001b[0m\n\u001b[0;32m     14\u001b[0m \u001b[1;33m\u001b[0m\u001b[0m\n",
      "\u001b[1;31mValueError\u001b[0m: operands could not be broadcast together with shapes (50,1) (5,1) "
     ]
    }
   ],
   "source": [
    "#4\n",
    "x_mse_grad = gradient_descent(gradient = grad_MSE, start = w_true * 0, learn_rate = 0.00001, n_iter= 100000)\n",
    "\n",
    "print (x_mse_grad)"
   ]
  },
  {
   "cell_type": "code",
   "execution_count": null,
   "metadata": {},
   "outputs": [],
   "source": [
    "l"
   ]
  },
  {
   "cell_type": "markdown",
   "metadata": {},
   "source": [
    "# 2.2 Stochastic gradient descent  (SGD)"
   ]
  },
  {
   "cell_type": "markdown",
   "metadata": {},
   "source": [
    "$$\n",
    "\\nabla Q(\\textbf{w}) \\approx \\frac{1}{n}\\sum_{k=1}^{n} \\nabla l_{i_k}(\\textbf{w})\n",
    "$$"
   ]
  },
  {
   "cell_type": "markdown",
   "metadata": {},
   "source": [
    "5.  Применить метод стохастического градиентного спуска для поиска весов линейной регрессии (при разных размерах батча) для представленных выше данных.\n",
    "Построить график зависимости эмпирического риска $Q(w(k))$ от шага $k$. Сравнить скорость сходимости с методом градиентного спуска. \n",
    "Сравнить с точным решением. "
   ]
  },
  {
   "cell_type": "code",
   "execution_count": null,
   "metadata": {},
   "outputs": [],
   "source": []
  }
 ],
 "metadata": {
  "interpreter": {
   "hash": "b3ba2566441a7c06988d0923437866b63cedc61552a5af99d1f4fb67d367b25f"
  },
  "kernelspec": {
   "display_name": "Python 3.8.8 64-bit ('base': conda)",
   "name": "python3"
  },
  "language_info": {
   "codemirror_mode": {
    "name": "ipython",
    "version": 3
   },
   "file_extension": ".py",
   "mimetype": "text/x-python",
   "name": "python",
   "nbconvert_exporter": "python",
   "pygments_lexer": "ipython3",
   "version": "3.8.8"
  }
 },
 "nbformat": 4,
 "nbformat_minor": 5
}
