{
 "cells": [
  {
   "cell_type": "markdown",
   "metadata": {},
   "source": [
    "\n",
    "<a href=\"https://colab.research.google.com/github/OsipovOleg/crash-python-notebooks/blob/master/scientific_computing.ipynb\">\n",
    "  <img src=\"https://colab.research.google.com/assets/colab-badge.svg\" alt=\"Open In Colab\"/>\n",
    "</a>\n"
   ]
  },
  {
   "cell_type": "code",
   "execution_count": 618,
   "metadata": {},
   "outputs": [],
   "source": [
    "import numpy as np\n",
    "import matplotlib.pyplot as plt\n",
    "np.set_printoptions(precision=3)\n",
    "from sklearn.model_selection import train_test_split\n",
    "from numpy.linalg import inv"
   ]
  },
  {
   "cell_type": "markdown",
   "metadata": {},
   "source": [
    "Для краткого знакомства с numpy:\n",
    "- [A Quick Introduction to the NumPy Library](https://towardsdatascience.com/a-quick-introduction-to-the-numpy-library-6f61b7dee4db)\n",
    "- [NumPy Cheat Sheet](https://s3.amazonaws.com/assets.datacamp.com/blog_assets/Numpy_Python_Cheat_Sheet.pdf)\n",
    "- [Examples](https://github.com/OsipovOleg/crash-python-notebooks/blob/master/scientific_computing.ipynb)"
   ]
  },
  {
   "cell_type": "markdown",
   "metadata": {},
   "source": [
    "# 1. Overfitting/Underfitting"
   ]
  },
  {
   "cell_type": "markdown",
   "metadata": {},
   "source": [
    "Рассмотрим здесь задачу восстановления зависимости $y = 2\\sin(x)$ на отрезке $(0,7)$.\n",
    "\n",
    "В качестве модели будем использовать полиномы."
   ]
  },
  {
   "cell_type": "code",
   "execution_count": 619,
   "metadata": {},
   "outputs": [
    {
     "data": {
      "text/plain": [
       "array([0.   , 0.241, 0.483, 0.724, 0.966, 1.207, 1.448, 1.69 , 1.931,\n",
       "       2.172, 2.414, 2.655, 2.897, 3.138, 3.379, 3.621, 3.862, 4.103,\n",
       "       4.345, 4.586])"
      ]
     },
     "execution_count": 619,
     "metadata": {},
     "output_type": "execute_result"
    }
   ],
   "source": [
    "N = 30\n",
    "x = np.linspace(0, 7, N)\n",
    "x[:20]"
   ]
  },
  {
   "cell_type": "code",
   "execution_count": 620,
   "metadata": {},
   "outputs": [
    {
     "data": {
      "text/plain": [
       "array([ 0.   ,  0.478,  0.928,  1.325,  1.645,  1.869,  1.985,  1.986,\n",
       "        1.872,  1.649,  1.33 ,  0.935,  0.485,  0.007, -0.471, -0.922,\n",
       "       -1.319, -1.641, -1.866, -1.984])"
      ]
     },
     "execution_count": 620,
     "metadata": {},
     "output_type": "execute_result"
    }
   ],
   "source": [
    "y_true = 2*np.sin(x)\n",
    "y_true[:20]"
   ]
  },
  {
   "cell_type": "code",
   "execution_count": 621,
   "metadata": {},
   "outputs": [
    {
     "data": {
      "text/plain": [
       "array([ 0.915, -0.941,  0.485,  0.   ,  1.645, -1.319,  1.869,  0.007,\n",
       "        0.935, -1.653,  0.478,  0.928, -0.492,  1.325, -1.874, -0.015,\n",
       "       -1.866,  1.314, -1.987,  1.986])"
      ]
     },
     "execution_count": 621,
     "metadata": {},
     "output_type": "execute_result"
    }
   ],
   "source": [
    "x_train, x_test, y_true_train, y_true_test = train_test_split(\n",
    "x, y_true, test_size=0.2, random_state=42)\n",
    "\n",
    "y_true_train[:20]"
   ]
  },
  {
   "cell_type": "code",
   "execution_count": 622,
   "metadata": {},
   "outputs": [
    {
     "data": {
      "text/plain": [
       "array([ 0.464, -0.922, -1.336, -1.641,  1.872,  1.649])"
      ]
     },
     "execution_count": 622,
     "metadata": {},
     "output_type": "execute_result"
    }
   ],
   "source": [
    "y_true_test[:20]"
   ]
  },
  {
   "cell_type": "code",
   "execution_count": 623,
   "metadata": {},
   "outputs": [
    {
     "data": {
      "image/png": "[encoded data removed]",
      "text/plain": [
       "<Figure size 432x288 with 1 Axes>"
      ]
     },
     "metadata": {
      "needs_background": "light"
     },
     "output_type": "display_data"
    }
   ],
   "source": [
    "plt.plot(x, y_true, c='green');"
   ]
  },
  {
   "cell_type": "code",
   "execution_count": 624,
   "metadata": {},
   "outputs": [
    {
     "data": {
      "text/plain": [
       "array([ 0.75 , -2.045,  0.875,  0.309,  1.862, -2.503,  1.254,  0.277,\n",
       "        0.983, -1.747,  1.367,  0.886, -1.135,  1.72 , -0.313,  1.535,\n",
       "       -1.257,  2.025, -2.338,  4.246])"
      ]
     },
     "execution_count": 624,
     "metadata": {},
     "output_type": "execute_result"
    }
   ],
   "source": [
    "y = y_true_train + np.random.normal(0, 1, len(y_true_train))\n",
    "y[:20]"
   ]
  },
  {
   "cell_type": "code",
   "execution_count": 625,
   "metadata": {},
   "outputs": [
    {
     "data": {
      "image/png": "[encoded data removed]",
      "text/plain": [
       "<Figure size 432x288 with 1 Axes>"
      ]
     },
     "metadata": {
      "needs_background": "light"
     },
     "output_type": "display_data"
    }
   ],
   "source": [
    "plt.scatter(x_train, y)\n",
    "plt.plot(x, y_true, c='green');"
   ]
  },
  {
   "cell_type": "markdown",
   "metadata": {},
   "source": [
    "## Polinomial Regression"
   ]
  },
  {
   "cell_type": "code",
   "execution_count": 626,
   "metadata": {},
   "outputs": [
    {
     "name": "stdout",
     "output_type": "stream",
     "text": [
      "[0.243 0.243 0.243 0.243 0.243 0.243 0.243 0.243 0.243 0.243 0.243 0.243\n",
      " 0.243 0.243 0.243 0.243]\n"
     ]
    }
   ],
   "source": [
    "d = 0\n",
    "model = np.poly1d(np.polyfit(x_train, y, d))\n",
    "x_validation = np.linspace(0, 7, 16)\n",
    "y_pred = model(x_validation)\n",
    "print(y_pred)"
   ]
  },
  {
   "cell_type": "code",
   "execution_count": 627,
   "metadata": {},
   "outputs": [
    {
     "name": "stdout",
     "output_type": "stream",
     "text": [
      "1.8013678918795204\n",
      "2.0127464674737934\n",
      "-----------\n",
      "2.157806985090315\n",
      "1.4265614032909912\n",
      "-----------\n",
      "2.2880091601173027\n",
      "1.1104389856683439\n",
      "-----------\n",
      "3.0184116508572827\n",
      "0.06593308761105747\n",
      "-----------\n",
      "3.0553393801559294\n",
      "0.02308084205077472\n",
      "-----------\n",
      "3.1239257355155843\n",
      "0.01880726471385989\n",
      "-----------\n"
     ]
    },
    {
     "data": {
      "text/plain": [
       "<matplotlib.legend.Legend at 0x186cd1eda60>"
      ]
     },
     "execution_count": 627,
     "metadata": {},
     "output_type": "execute_result"
    },
    {
     "data": {
      "image/png": "[encoded data removed]",
      "text/plain": [
       "<Figure size 432x288 with 1 Axes>"
      ]
     },
     "metadata": {
      "needs_background": "light"
     },
     "output_type": "display_data"
    }
   ],
   "source": [
    "for d in range(6):  \n",
    "    model = np.poly1d(np.polyfit(x_train, y, d))\n",
    "\n",
    "    x_validation = np.linspace(0, 7, len(y_true_train))\n",
    "    y_pred = model(x_validation)\n",
    "\n",
    "    plt.scatter(x_train, y)\n",
    "    plt.plot(x_validation, y_pred, label = d);\n",
    "    plt.plot(x, y_true, c='green'); \n",
    "\n",
    "    mse = np.mean((y_true_train - y_pred)**2)\n",
    "    print(mse)\n",
    "\n",
    "    y_pred_test = model(x_test)\n",
    "    mse_test = np.mean((y_true_test - y_pred_test)**2)\n",
    "    print(mse_test)\n",
    "    print(\"-----------\")\n",
    "\n",
    "plt.legend()"
   ]
  },
  {
   "cell_type": "code",
   "execution_count": 628,
   "metadata": {},
   "outputs": [],
   "source": [
    "#3 чем больше N, тем меньше MSE\n",
    "#4 модель точнее"
   ]
  },
  {
   "cell_type": "code",
   "execution_count": 629,
   "metadata": {},
   "outputs": [
    {
     "name": "stdout",
     "output_type": "stream",
     "text": [
      "0.10834309807683241\n"
     ]
    }
   ],
   "source": [
    "#5\n",
    "baseline = np.mean(y_true_train)\n",
    "print(baseline)"
   ]
  },
  {
   "cell_type": "code",
   "execution_count": 630,
   "metadata": {},
   "outputs": [
    {
     "name": "stdout",
     "output_type": "stream",
     "text": [
      "-0.20695221737345015\n",
      "0.4457040786623817\n",
      "-0.10375138158737252\n",
      "0.12775174981076332\n",
      "0.08145978694027534\n",
      "0.050559198598753574\n"
     ]
    }
   ],
   "source": [
    "for d in range(6):  \n",
    "    model = np.poly1d(np.polyfit(x_train, y, d))\n",
    "\n",
    "    x_validation = np.linspace(0, 7, len(y_true_train))\n",
    "    y_pred = model(x_validation)\n",
    "    \n",
    "    sumVal1 = 0\n",
    "    for i in range(len(y_pred)): sumVal1 += (y_pred[i] - y_true[i])**2\n",
    "\n",
    "    sumVal2 = 0\n",
    "    for i in range(len(y_true_train)): sumVal2 += (y_true_train[i] - baseline)**2\n",
    "    R_2 = 1 - sumVal1 / sumVal2\n",
    "    print(R_2)"
   ]
  },
  {
   "cell_type": "markdown",
   "metadata": {},
   "source": [
    "### Задания: \n",
    "\n",
    "1. Разбить выборку на train/test в некотором соотношении. \n",
    "2. Вычислить для различных значений $d$ (степень полинома) MSE на train/test. Построить кривые MSE для train/test при различных значениях $d$. \n",
    "3. Как изменяется качество модели, если в нее добавить больше данных (увеличить $N$)? Привести несколько примеров. \n",
    "4. Какие выводы можно сделать из пунктов 2 и 3. Как влияет сложность модели и количество данных на переобучение (overfitting)? \n",
    "\n",
    "Еще одной метрикой качества, которую можно использовать в задаче регрессии, является коэффициент детерминации (coefficient of determination), который показывет долю объясненной дисперсии: \n",
    "\n",
    "$$\n",
    "    R^2 = 1 - \\frac{\\sum_{i=1}^{N}(\\hat{y}_i-y_i)^2}{\\sum_{i=1}^{N} (y_i - \\bar{y})^2}\n",
    "$$\n",
    "\n",
    "$\\bar{y}$ - выборочное среднее (самый простой baseline, который можно взять для нашей задачи - самая простая модель, которую затем можно использовать для сравнения с более сложными моделями).\n",
    "\n",
    "5. Определить $R^2$ для различных $d$. Сделать выводы. \n",
    "6. Ранее было указано, что одним из простых baseline для нашей задачи, *может быть* выборочнее среднее. \n",
    "Расмотрим модель, которая для всех объектов возвращает константное значение (полином нулевой степени): \n",
    "\n",
    "$$\n",
    "\\hat{y} (\\textbf{x}) = w_0\n",
    "$$\n",
    "\n",
    "аналитически определить параметры модели ($w_0$), минимизирующие MSE. \n",
    "\n",
    "7. Определить аналогично baseline для MAE. "
   ]
  },
  {
   "cell_type": "code",
   "execution_count": 631,
   "metadata": {},
   "outputs": [],
   "source": [
    "#6"
   ]
  },
  {
   "cell_type": "code",
   "execution_count": 632,
   "metadata": {},
   "outputs": [],
   "source": [
    "#7\n",
    "#  sum i =1 N |y-yi| '       yi - y\n",
    "# (-----------------)   => ----------\n",
    "#         N          yi     |yi - y|"
   ]
  },
  {
   "cell_type": "markdown",
   "metadata": {},
   "source": [
    "# 2. Linear models\n",
    "## 1. Regression\n",
    "\n",
    "Объекты: $\\textbf{x}_1, \\textbf{x}_2, \\dots, \\textbf{x}_N$\n",
    "\n",
    "Признаки некоторого объекта: $\\textbf{x}=(x_1, \\dots, x_D)$\n",
    "\n",
    "$\\mathcal{D} = (\\textbf{x}_i, y_i)$, $i=1, \\dots, N$ - множество объектов и ответов на них,\n",
    "\n",
    "$\\textbf{X}$ - матрица  объекты-признаки (каждая строка описывает один объект):\n",
    "\n",
    "\n",
    "\n",
    "$$\\textbf{X} = \n",
    "\\begin{bmatrix}\n",
    "x_{1,1} & x_{1,2} & \\dots & x_{1,D}\\\\\n",
    "x_{2,1} & x_{2,2} & \\dots & x_{2,D}\\\\\n",
    "\\dots & \\dots & \\dots & \\dots\\\\\n",
    "x_{N,1} & x_{N,2} & \\dots & x_{N,D}\n",
    "\\end{bmatrix}\n",
    "$$\n",
    "\n",
    "\n",
    "Уравнение регрессии:\n",
    "\n",
    "$$\n",
    "\\hat{y} (\\textbf{x}) = w_0 + w_1x_1 + \\dots + w_D x_D\n",
    "$$\n",
    "\n",
    "здесь $\\hat{y} (\\textbf{x})$ -  предсказание на объекте $\\textbf{x}$. \n",
    "\n",
    "MSE может быть записано в матричной форме:\n",
    "$$\n",
    "\\frac{1}{N}||\\textbf{X}\\textbf{w} - \\textbf{y}||^{2} \\to \\min_{\\textbf{w}}\n",
    "$$\n",
    "\n",
    "Точное решение задачи оптимизации (нормальное уравнение линейной регрессии):\n",
    "\n",
    "$$\n",
    "\\textbf{w}^* = (\\textbf{X}^T \\textbf{X})^{-1} \\textbf{X}^{T} \\textbf{y} \n",
    "$$"
   ]
  },
  {
   "cell_type": "markdown",
   "metadata": {},
   "source": [
    "### Задания:\n",
    "1. Для одномерного случая ($D=1$, $\\hat{y} = w_0 + w_1x$) найти вид выражений для $\\textbf{w}^* = (w_0^*, w_1^*)$, минимизирующее MSE. \n"
   ]
  },
  {
   "cell_type": "markdown",
   "metadata": {},
   "source": [
    "Далее рассмотрим следующую модельную задачу и данные, на которых нужно будет выполнять задания.  "
   ]
  },
  {
   "cell_type": "code",
   "execution_count": 633,
   "metadata": {},
   "outputs": [
    {
     "data": {
      "text/plain": [
       "array([[0.147, 0.864, 0.055, 0.2  ],\n",
       "       [0.033, 0.135, 0.322, 0.768],\n",
       "       [0.292, 0.138, 0.519, 0.443],\n",
       "       [0.748, 0.434, 0.453, 0.121],\n",
       "       [0.223, 0.935, 0.635, 0.034],\n",
       "       [0.559, 0.848, 0.329, 0.907],\n",
       "       [0.825, 0.747, 0.184, 0.017],\n",
       "       [0.39 , 0.955, 0.217, 0.605],\n",
       "       [0.099, 0.168, 0.291, 0.218],\n",
       "       [0.331, 0.65 , 0.696, 0.765]])"
      ]
     },
     "execution_count": 633,
     "metadata": {},
     "output_type": "execute_result"
    }
   ],
   "source": [
    "N = 50\n",
    "D = 4\n",
    "# матрица объекты-признаки\n",
    "X = np.random.uniform(0, 1, (N, D))\n",
    "X[:10]"
   ]
  },
  {
   "cell_type": "code",
   "execution_count": 634,
   "metadata": {},
   "outputs": [
    {
     "data": {
      "text/plain": [
       "array([[1.   , 0.147, 0.864, 0.055, 0.2  ],\n",
       "       [1.   , 0.033, 0.135, 0.322, 0.768],\n",
       "       [1.   , 0.292, 0.138, 0.519, 0.443],\n",
       "       [1.   , 0.748, 0.434, 0.453, 0.121],\n",
       "       [1.   , 0.223, 0.935, 0.635, 0.034],\n",
       "       [1.   , 0.559, 0.848, 0.329, 0.907],\n",
       "       [1.   , 0.825, 0.747, 0.184, 0.017],\n",
       "       [1.   , 0.39 , 0.955, 0.217, 0.605],\n",
       "       [1.   , 0.099, 0.168, 0.291, 0.218],\n",
       "       [1.   , 0.331, 0.65 , 0.696, 0.765]])"
      ]
     },
     "execution_count": 634,
     "metadata": {},
     "output_type": "execute_result"
    }
   ],
   "source": [
    "#  Добавим единичный признак (для w_0)\n",
    "D += 1\n",
    "x_ones = np.ones((N, 1))\n",
    "X = np.hstack((x_ones, X))\n",
    "X[:10]"
   ]
  },
  {
   "cell_type": "code",
   "execution_count": 635,
   "metadata": {},
   "outputs": [
    {
     "data": {
      "text/plain": [
       "array([[ 4.519],\n",
       "       [-1.998],\n",
       "       [ 5.825],\n",
       "       [-4.225],\n",
       "       [-4.919]])"
      ]
     },
     "execution_count": 635,
     "metadata": {},
     "output_type": "execute_result"
    }
   ],
   "source": [
    "# Вектор весов\n",
    "w_true = np.random.uniform(low=-5, high=10, size=(D, 1))\n",
    "w_true"
   ]
  },
  {
   "cell_type": "code",
   "execution_count": 636,
   "metadata": {},
   "outputs": [
    {
     "data": {
      "text/plain": [
       "array([[8.042],\n",
       "       [0.101],\n",
       "       [0.369],\n",
       "       [3.046],\n",
       "       [6.668],\n",
       "       [2.492],\n",
       "       [6.357],\n",
       "       [5.41 ],\n",
       "       [2.999],\n",
       "       [0.944]])"
      ]
     },
     "execution_count": 636,
     "metadata": {},
     "output_type": "execute_result"
    }
   ],
   "source": [
    "# Целевая переменная (target)\n",
    "# y = w0 + w1*x_1 + ... + wD*xD\n",
    "y = X@w_true\n",
    "y[:10]"
   ]
  },
  {
   "cell_type": "markdown",
   "metadata": {},
   "source": [
    "Получили следующие вектора и матрицы:  X, y, w_true. "
   ]
  },
  {
   "cell_type": "markdown",
   "metadata": {},
   "source": [
    "### Задания:\n",
    "2. Используя нормальное уравнение линейной регресси, найти значение $\\textbf{w}^*$. "
   ]
  },
  {
   "cell_type": "code",
   "execution_count": 637,
   "metadata": {},
   "outputs": [
    {
     "data": {
      "text/plain": [
       "array([[ 4.519],\n",
       "       [-1.998],\n",
       "       [ 5.825],\n",
       "       [-4.225],\n",
       "       [-4.919]])"
      ]
     },
     "execution_count": 637,
     "metadata": {},
     "output_type": "execute_result"
    }
   ],
   "source": [
    "#W*\n",
    "x_transpon = X.transpose()\n",
    "x_transpon[:10]\n",
    "\n",
    "tempVal = inv(x_transpon.dot(X))\n",
    "tempVal2 = tempVal.dot(x_transpon)\n",
    "tempVal2.dot(y)"
   ]
  },
  {
   "cell_type": "markdown",
   "metadata": {},
   "source": [
    "## 2.1 Gradient descent"
   ]
  },
  {
   "cell_type": "markdown",
   "metadata": {},
   "source": [
    "$$\n",
    "    \\textbf{w}^{(k)} = \\textbf{w}^{(k-1)} - \\alpha_k \\nabla Q\\left(\\textbf{w}^{(k-1)}\\right)\n",
    "$$"
   ]
  },
  {
   "cell_type": "markdown",
   "metadata": {},
   "source": [
    "### Задания: \n",
    "\n",
    "3. Реализовать метод градиентного спуска для одной из указанных функций [Wiki: Тестовые функции для оптимизации](https://ru.wikipedia.org/wiki/%D0%A2%D0%B5%D1%81%D1%82%D0%BE%D0%B2%D1%8B%D0%B5_%D1%84%D1%83%D0%BD%D0%BA%D1%86%D0%B8%D0%B8_%D0%B4%D0%BB%D1%8F_%D0%BE%D0%BF%D1%82%D0%B8%D0%BC%D0%B8%D0%B7%D0%B0%D1%86%D0%B8%D0%B8)\n",
    "\n",
    "4.  Определить вид градиента в случае MSE. Применить метод градиентного спуска для поиска весов линейной регрессии для представленных выше данных.\n",
    "Построить график зависимости эмпирического риска $Q(\\textbf{w}^{(k)})$ от шага $k$.\n",
    "Сравнить с точным решением. "
   ]
  },
  {
   "cell_type": "code",
   "execution_count": 638,
   "metadata": {},
   "outputs": [],
   "source": [
    "# y"
   ]
  },
  {
   "cell_type": "code",
   "execution_count": 639,
   "metadata": {},
   "outputs": [],
   "source": [
    "#3 - 4\n",
    "l = []\n",
    "\n",
    "def gradient_descent(\n",
    "    gradient, start, learn_rate, n_iter = 100, tolerance = 1e-06 ):\n",
    "    vector = start\n",
    "    for _ in range(n_iter):\n",
    "        diff = - learn_rate * gradient(vector)\n",
    "        if np.all(np.abs(diff) <= tolerance):\n",
    "            break\n",
    "        # функция которую оценить - MSE, пересчитывать с новыми векторами, собирать в массив, по этому массиву построить график\n",
    "        # temp_mse = np.mean((y - X.dot(vector))**2)\n",
    "        l.append(gradient(vector))\n",
    "        # print(temp_mse)\n",
    "        \n",
    "        # print ('vector = ', vector)\n",
    "        # print ('gradient = ', gradient(vector))\n",
    "        # print ('diff =', diff)\n",
    "        vector += diff\n",
    "    return vector\n",
    "\n",
    "#3\n",
    "# x_opt = gradient_descent(gradient = lambda x: x, start = np.array([1.0, 2.0]), learn_rate = 0.2)\n",
    "\n",
    "# x_opt[0]**2 + x_opt[1]**2"
   ]
  },
  {
   "cell_type": "code",
   "execution_count": 640,
   "metadata": {},
   "outputs": [],
   "source": [
    "# w_true"
   ]
  },
  {
   "cell_type": "code",
   "execution_count": 641,
   "metadata": {},
   "outputs": [],
   "source": [
    "# X"
   ]
  },
  {
   "cell_type": "code",
   "execution_count": 642,
   "metadata": {},
   "outputs": [
    {
     "data": {
      "text/plain": [
       "array([[0.],\n",
       "       [0.],\n",
       "       [0.],\n",
       "       [0.],\n",
       "       [0.]])"
      ]
     },
     "execution_count": 642,
     "metadata": {},
     "output_type": "execute_result"
    }
   ],
   "source": [
    "def grad_MSE (w): \n",
    "    y_pred = X @ w\n",
    "    eps = - 2 * (y - y_pred)\n",
    "    # print(eps.shape)\n",
    "    grad = eps.transpose() @ X\n",
    "    return grad.transpose()\n",
    "\n",
    "grad_MSE(w_true)"
   ]
  },
  {
   "cell_type": "code",
   "execution_count": 643,
   "metadata": {},
   "outputs": [
    {
     "name": "stdout",
     "output_type": "stream",
     "text": [
      "[[ 4.394]\n",
      " [-1.92 ]\n",
      " [ 5.879]\n",
      " [-4.165]\n",
      " [-4.859]]\n"
     ]
    }
   ],
   "source": [
    "#4\n",
    "wes = gradient_descent(gradient = grad_MSE, start = w_true * 0, learn_rate = 0.00001, n_iter= 100000)\n",
    "\n",
    "print (wes)"
   ]
  },
  {
   "cell_type": "code",
   "execution_count": 644,
   "metadata": {},
   "outputs": [],
   "source": [
    "p = []\n",
    "\n",
    "for i in range (50):\n",
    "    p.append( np.mean((y - X.dot(l[i]))**2) )"
   ]
  },
  {
   "cell_type": "code",
   "execution_count": 645,
   "metadata": {},
   "outputs": [
    {
     "data": {
      "image/png": "[encoded data removed]",
      "text/plain": [
       "<Figure size 432x288 with 1 Axes>"
      ]
     },
     "metadata": {
      "needs_background": "light"
     },
     "output_type": "display_data"
    }
   ],
   "source": [
    "k = list(range(1, 51))\n",
    "plt.plot(k, p, c='green');"
   ]
  },
  {
   "cell_type": "markdown",
   "metadata": {},
   "source": [
    "# 2.2 Stochastic gradient descent  (SGD)"
   ]
  },
  {
   "cell_type": "markdown",
   "metadata": {},
   "source": [
    "$$\n",
    "\\nabla Q(\\textbf{w}) \\approx \\frac{1}{n}\\sum_{k=1}^{n} \\nabla l_{i_k}(\\textbf{w})\n",
    "$$"
   ]
  },
  {
   "cell_type": "markdown",
   "metadata": {},
   "source": [
    "5.  Применить метод стохастического градиентного спуска для поиска весов линейной регрессии (при разных размерах батча) для представленных выше данных.\n",
    "Построить график зависимости эмпирического риска $Q(w(k))$ от шага $k$. Сравнить скорость сходимости с методом градиентного спуска. \n",
    "Сравнить с точным решением. "
   ]
  },
  {
   "cell_type": "code",
   "execution_count": null,
   "metadata": {},
   "outputs": [],
   "source": []
  }
 ],
 "metadata": {
  "interpreter": {
   "hash": "b3ba2566441a7c06988d0923437866b63cedc61552a5af99d1f4fb67d367b25f"
  },
  "kernelspec": {
   "display_name": "Python 3.8.8 64-bit ('base': conda)",
   "name": "python3"
  },
  "language_info": {
   "codemirror_mode": {
    "name": "ipython",
    "version": 3
   },
   "file_extension": ".py",
   "mimetype": "text/x-python",
   "name": "python",
   "nbconvert_exporter": "python",
   "pygments_lexer": "ipython3",
   "version": "3.8.8"
  }
 },
 "nbformat": 4,
 "nbformat_minor": 5
}
