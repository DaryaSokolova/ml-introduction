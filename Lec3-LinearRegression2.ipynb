{
 "cells": [
  {
   "cell_type": "markdown",
   "metadata": {},
   "source": [
    "\n",
    "<a href=\"https://colab.research.google.com/github/OsipovOleg/crash-python-notebooks/blob/master/scientific_computing.ipynb\">\n",
    "  <img src=\"https://colab.research.google.com/assets/colab-badge.svg\" alt=\"Open In Colab\"/>\n",
    "</a>\n"
   ]
  },
  {
   "cell_type": "markdown",
   "metadata": {},
   "source": [
    "# Байесовская регрессия"
   ]
  },
  {
   "cell_type": "markdown",
   "metadata": {},
   "source": [
    "Пусть дана обучающая выборка $\\mathcal{D}$, состоящая из $N$ элементов, которая получена следующим образом: \n",
    "\n",
    "$$\n",
    "y_i = w_0 + x_i w_1 + N(0, \\sigma^2).\n",
    "$$\n",
    "\n",
    "Пусть априорное распределение для каждого из весов является нормальным. \n",
    "\n",
    "1. Получите вид апостериорного распределения $p(w| \\mathcal{D})$.\n",
    "2. Рассмотрите как меняется апостериорное распреление весов в зависимости *от числа объектов*, которые мы используем для обучения модели. \n",
    "- Получите параметры этого распределения. \n",
    "- Постройте плотности распределения весов. \n",
    "- Просемлируйте несколько значений весов из полученного апостериорного распределения и постройте предсказания (линии регересии на некотором интервале).\n",
    "3. Как ведут себя полученные линии при добавлении новых данных. Какие выводы можно сделать. "
   ]
  },
  {
   "cell_type": "markdown",
   "metadata": {},
   "source": [
    "1. \n",
    "\n",
    "w_0 = -1/2 * -2 sum(y_i) (i = 0...N) /b^2 + -1/2 * 2m/d^2\n",
    "\n",
    "w_1 = -1/2 * -2 sum(y_i) (i = 0...N) sum(x_i) (i = 0...N) /b^2 + -1/2 * 2m/d^2\n",
    "\n",
    "w_0*w_1 = -1/2 * 2 sum(x_i) (i = 0...N)/b^2"
   ]
  },
  {
   "cell_type": "markdown",
   "metadata": {},
   "source": [
    "/// подсчеты ////\n",
    "\n",
    "мы доказали соответствие с нормальным распределением, из чего делаем вывод, что\n",
    "\n",
    "p(w|D) = 1/(pi * q_1 * q_2 * sqrt(1 - p^2)) exp(-1/2(1 - p^2) * [(x_1 - m_1)^2/q_1^2 - p* (2 (x_1-m_1)(x_2-m_2)/(q_1 * q_2)) + (x_2-m_2)^2/q_2^2])"
   ]
  },
  {
   "cell_type": "markdown",
   "metadata": {},
   "source": [
    "КОД ЧАСТЬ ПОДСЧЕТОВ РАСПРЕДЕЛЕНИЯ"
   ]
  },
  {
   "cell_type": "code",
   "execution_count": 53,
   "metadata": {},
   "outputs": [],
   "source": [
    "import numpy as np\n",
    "from numpy.linalg import inv\n",
    "from numpy.linalg import solve\n",
    "import matplotlib.pyplot as plt\n",
    "from scipy.stats import multivariate_normal"
   ]
  },
  {
   "cell_type": "code",
   "execution_count": 54,
   "metadata": {},
   "outputs": [
    {
     "data": {
      "text/plain": [
       "array([[ 1.        , -0.1382643 ],\n",
       "       [ 1.        ,  1.52302986],\n",
       "       [ 1.        , -0.23413696],\n",
       "       [ 1.        ,  0.76743473],\n",
       "       [ 1.        ,  0.54256004],\n",
       "       [ 1.        , -0.46572975],\n",
       "       [ 1.        , -1.91328024],\n",
       "       [ 1.        , -0.56228753],\n",
       "       [ 1.        ,  0.31424733],\n",
       "       [ 1.        , -1.4123037 ]])"
      ]
     },
     "execution_count": 54,
     "metadata": {},
     "output_type": "execute_result"
    }
   ],
   "source": [
    "np.random.seed(42)\n",
    "true_weight = np.array([[4], [1]])\n",
    "N = 10\n",
    "X = np.random.normal(size = (N, 2))\n",
    "X[:, 0] = 1\n",
    "X[:10]"
   ]
  },
  {
   "cell_type": "code",
   "execution_count": 55,
   "metadata": {},
   "outputs": [
    {
     "data": {
      "text/plain": [
       "array([[5.32738447],\n",
       "       [5.29725356],\n",
       "       [3.83339125],\n",
       "       [3.34268654],\n",
       "       [3.99817732]])"
      ]
     },
     "execution_count": 55,
     "metadata": {},
     "output_type": "execute_result"
    }
   ],
   "source": [
    "noize_sigma = 1\n",
    "y = X@true_weight\n",
    "y += np.random.normal(size = y.shape, scale = noize_sigma)\n",
    "y[:5]"
   ]
  },
  {
   "cell_type": "code",
   "execution_count": 56,
   "metadata": {},
   "outputs": [],
   "source": [
    "weight_sigma = 1\n",
    "weight_sigma_matrix = np.array(np.eye(2)*(weight_sigma**2))\n",
    "m = 1"
   ]
  },
  {
   "cell_type": "code",
   "execution_count": 57,
   "metadata": {},
   "outputs": [
    {
     "data": {
      "text/plain": [
       "-5.5"
      ]
     },
     "execution_count": 57,
     "metadata": {},
     "output_type": "execute_result"
    }
   ],
   "source": [
    "# w_0**2\n",
    "xi_1 = - 1/(2*weight_sigma**2)*N - 1/(2*noize_sigma**2) \n",
    "xi_1"
   ]
  },
  {
   "cell_type": "code",
   "execution_count": 58,
   "metadata": {},
   "outputs": [
    {
     "data": {
      "text/plain": [
       "-4.710634737408744"
      ]
     },
     "execution_count": 58,
     "metadata": {},
     "output_type": "execute_result"
    }
   ],
   "source": [
    "# w_1**2\n",
    "xi_2 = - 1/(2*weight_sigma**2)*X.sum() - 1/(2*noize_sigma**2)\n",
    "xi_2"
   ]
  },
  {
   "cell_type": "code",
   "execution_count": 59,
   "metadata": {},
   "outputs": [
    {
     "data": {
      "text/plain": [
       "-8.421269474817487"
      ]
     },
     "execution_count": 59,
     "metadata": {},
     "output_type": "execute_result"
    }
   ],
   "source": [
    "# w_0*w_1\n",
    "xi_3 = -1/2 * 2*X.sum()/(weight_sigma**2)\n",
    "xi_3"
   ]
  },
  {
   "cell_type": "code",
   "execution_count": 60,
   "metadata": {},
   "outputs": [
    {
     "data": {
      "text/plain": [
       "35.20283382812295"
      ]
     },
     "execution_count": 60,
     "metadata": {},
     "output_type": "execute_result"
    }
   ],
   "source": [
    "# w_0\n",
    "xi_4 = -1/2 * -2*y.sum()/(weight_sigma**2) + -1/2 * 2*m/(noize_sigma**2)\n",
    "xi_4"
   ]
  },
  {
   "cell_type": "code",
   "execution_count": 61,
   "metadata": {},
   "outputs": [
    {
     "data": {
      "text/plain": [
       "303.8738194186617"
      ]
     },
     "execution_count": 61,
     "metadata": {},
     "output_type": "execute_result"
    }
   ],
   "source": [
    "# w_1\n",
    "xi_5 = -1/2 * -2*y.sum()*X.sum()/(weight_sigma**2) + -1/2 * 2*m/(noize_sigma**2)\n",
    "xi_5"
   ]
  },
  {
   "cell_type": "code",
   "execution_count": 62,
   "metadata": {},
   "outputs": [
    {
     "data": {
      "text/plain": [
       "-0.8272304440468725"
      ]
     },
     "execution_count": 62,
     "metadata": {},
     "output_type": "execute_result"
    }
   ],
   "source": [
    "p = xi_3/(2* (xi_1 * xi_2)**(0.5))\n",
    "p"
   ]
  },
  {
   "cell_type": "code",
   "execution_count": 63,
   "metadata": {},
   "outputs": [
    {
     "data": {
      "text/plain": [
       "0.5366280719486661"
      ]
     },
     "execution_count": 63,
     "metadata": {},
     "output_type": "execute_result"
    }
   ],
   "source": [
    "b_1 = 1/((-xi_1*2*(1-p**2))**(0.5))\n",
    "b_1"
   ]
  },
  {
   "cell_type": "code",
   "execution_count": 64,
   "metadata": {},
   "outputs": [
    {
     "data": {
      "text/plain": [
       "0.5798491397656008"
      ]
     },
     "execution_count": 64,
     "metadata": {},
     "output_type": "execute_result"
    }
   ],
   "source": [
    "b_2 = 1/((-xi_2*2*(1-p**2))**(0.5))\n",
    "b_2"
   ]
  },
  {
   "cell_type": "code",
   "execution_count": 65,
   "metadata": {},
   "outputs": [
    {
     "data": {
      "text/plain": [
       "-1.583833281818385"
      ]
     },
     "execution_count": 65,
     "metadata": {},
     "output_type": "execute_result"
    }
   ],
   "source": [
    "a = -1 / (2 * (1-p**2)) * 1 / (weight_sigma**2)\n",
    "a"
   ]
  },
  {
   "cell_type": "code",
   "execution_count": 66,
   "metadata": {},
   "outputs": [
    {
     "data": {
      "text/plain": [
       "-1.583833281818385"
      ]
     },
     "execution_count": 66,
     "metadata": {},
     "output_type": "execute_result"
    }
   ],
   "source": [
    "b = -1 / (2 * (1-p**2)) * 1 / (noize_sigma**2)\n",
    "b"
   ]
  },
  {
   "cell_type": "code",
   "execution_count": 67,
   "metadata": {},
   "outputs": [
    {
     "data": {
      "text/plain": [
       "1.083833281818385"
      ]
     },
     "execution_count": 67,
     "metadata": {},
     "output_type": "execute_result"
    }
   ],
   "source": [
    "c = 1 / (2 * (1-p**2)) * p**2 / (weight_sigma * noize_sigma)\n",
    "c"
   ]
  },
  {
   "cell_type": "code",
   "execution_count": 68,
   "metadata": {},
   "outputs": [
    {
     "data": {
      "text/plain": [
       "-58.702765907483275"
      ]
     },
     "execution_count": 68,
     "metadata": {},
     "output_type": "execute_result"
    }
   ],
   "source": [
    "m_1 = (xi_5 - (2*b*xi_4)/c)/(4*b/c - c)\n",
    "m_1"
   ]
  },
  {
   "cell_type": "code",
   "execution_count": 69,
   "metadata": {},
   "outputs": [
    {
     "data": {
      "text/plain": [
       "-204.04763933362247"
      ]
     },
     "execution_count": 69,
     "metadata": {},
     "output_type": "execute_result"
    }
   ],
   "source": [
    "m_2 = (xi_4 + 2*a*m_1)/(-c)\n",
    "m_2"
   ]
  }
 ],
 "metadata": {
  "interpreter": {
   "hash": "7bb4ef3929ba2b3cff5c7c066675259b7e6e26497036bb9e6a9a5ed6dc85a661"
  },
  "kernelspec": {
   "display_name": "Python 3.8.8 64-bit ('base': conda)",
   "name": "python3"
  },
  "language_info": {
   "codemirror_mode": {
    "name": "ipython",
    "version": 3
   },
   "file_extension": ".py",
   "mimetype": "text/x-python",
   "name": "python",
   "nbconvert_exporter": "python",
   "pygments_lexer": "ipython3",
   "version": "3.8.8"
  },
  "orig_nbformat": 4
 },
 "nbformat": 4,
 "nbformat_minor": 2
}
