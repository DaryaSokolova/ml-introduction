{
 "cells": [
  {
   "cell_type": "code",
   "execution_count": 1,
   "id": "5496107e",
   "metadata": {
    "_cell_guid": "b1076dfc-b9ad-4769-8c92-a6c4dae69d19",
    "_uuid": "8f2839f25d086af736a60e9eeb907d3b93b6e0e5",
    "execution": {
     "iopub.execute_input": "2021-12-15T12:56:41.813352Z",
     "iopub.status.busy": "2021-12-15T12:56:41.811729Z",
     "iopub.status.idle": "2021-12-15T12:56:41.826053Z",
     "shell.execute_reply": "2021-12-15T12:56:41.826580Z",
     "shell.execute_reply.started": "2021-12-15T12:56:15.050519Z"
    },
    "papermill": {
     "duration": 0.03124,
     "end_time": "2021-12-15T12:56:41.826904",
     "exception": false,
     "start_time": "2021-12-15T12:56:41.795664",
     "status": "completed"
    },
    "tags": []
   },
   "outputs": [
    {
     "name": "stdout",
     "output_type": "stream",
     "text": [
      "/kaggle/input/whats-cooking-kernels-only/sample_submission.csv.zip\n",
      "/kaggle/input/whats-cooking-kernels-only/train.json\n",
      "/kaggle/input/whats-cooking-kernels-only/test.json\n"
     ]
    }
   ],
   "source": [
    "# This Python 3 environment comes with many helpful analytics libraries installed\n",
    "# It is defined by the kaggle/python Docker image: https://github.com/kaggle/docker-python\n",
    "# For example, here's several helpful packages to load\n",
    "\n",
    "import numpy as np # linear algebra\n",
    "import pandas as pd # data processing, CSV file I/O (e.g. pd.read_csv)\n",
    "\n",
    "# Input data files are available in the read-only \"../input/\" directory\n",
    "# For example, running this (by clicking run or pressing Shift+Enter) will list all files under the input directory\n",
    "\n",
    "import os\n",
    "for dirname, _, filenames in os.walk('/kaggle/input'):\n",
    "    for filename in filenames:\n",
    "        print(os.path.join(dirname, filename))\n",
    "\n",
    "# You can write up to 20GB to the current directory (/kaggle/working/) that gets preserved as output when you create a version using \"Save & Run All\" \n",
    "# You can also write temporary files to /kaggle/temp/, but they won't be saved outside of the current session"
   ]
  },
  {
   "cell_type": "code",
   "execution_count": 2,
   "id": "8678c815",
   "metadata": {
    "execution": {
     "iopub.execute_input": "2021-12-15T12:56:41.853169Z",
     "iopub.status.busy": "2021-12-15T12:56:41.852540Z",
     "iopub.status.idle": "2021-12-15T12:56:42.545984Z",
     "shell.execute_reply": "2021-12-15T12:56:42.546520Z",
     "shell.execute_reply.started": "2021-12-15T12:56:15.061853Z"
    },
    "papermill": {
     "duration": 0.707869,
     "end_time": "2021-12-15T12:56:42.546709",
     "exception": false,
     "start_time": "2021-12-15T12:56:41.838840",
     "status": "completed"
    },
    "tags": []
   },
   "outputs": [],
   "source": [
    "train = pd.read_json(\"../input/whats-cooking-kernels-only/train.json\")\n",
    "test = pd.read_json(\"../input/whats-cooking-kernels-only/test.json\")"
   ]
  },
  {
   "cell_type": "code",
   "execution_count": 3,
   "id": "da808f0c",
   "metadata": {
    "execution": {
     "iopub.execute_input": "2021-12-15T12:56:42.579097Z",
     "iopub.status.busy": "2021-12-15T12:56:42.578318Z",
     "iopub.status.idle": "2021-12-15T12:56:42.581149Z",
     "shell.execute_reply": "2021-12-15T12:56:42.580643Z",
     "shell.execute_reply.started": "2021-12-15T12:56:15.801887Z"
    },
    "papermill": {
     "duration": 0.022908,
     "end_time": "2021-12-15T12:56:42.581311",
     "exception": false,
     "start_time": "2021-12-15T12:56:42.558403",
     "status": "completed"
    },
    "tags": []
   },
   "outputs": [],
   "source": [
    "%matplotlib inline\n",
    "import matplotlib.pyplot as plt"
   ]
  },
  {
   "cell_type": "code",
   "execution_count": 4,
   "id": "3b069c5c",
   "metadata": {
    "execution": {
     "iopub.execute_input": "2021-12-15T12:56:42.609618Z",
     "iopub.status.busy": "2021-12-15T12:56:42.608941Z",
     "iopub.status.idle": "2021-12-15T12:56:43.081775Z",
     "shell.execute_reply": "2021-12-15T12:56:43.082267Z",
     "shell.execute_reply.started": "2021-12-15T12:56:15.813288Z"
    },
    "papermill": {
     "duration": 0.48975,
     "end_time": "2021-12-15T12:56:43.082443",
     "exception": false,
     "start_time": "2021-12-15T12:56:42.592693",
     "status": "completed"
    },
    "tags": []
   },
   "outputs": [
    {
     "data": {
      "image/png": "[encoded data removed]",
      "text/plain": [
       "<Figure size 648x576 with 1 Axes>"
      ]
     },
     "metadata": {
      "needs_background": "light"
     },
     "output_type": "display_data"
    }
   ],
   "source": [
    "plt.figure(figsize=(9, 8))\n",
    "train.cuisine.value_counts().plot.bar(title='Classes Counts')\n",
    "plt.show()"
   ]
  },
  {
   "cell_type": "code",
   "execution_count": 5,
   "id": "955176fb",
   "metadata": {
    "execution": {
     "iopub.execute_input": "2021-12-15T12:56:43.117344Z",
     "iopub.status.busy": "2021-12-15T12:56:43.110416Z",
     "iopub.status.idle": "2021-12-15T12:56:43.158501Z",
     "shell.execute_reply": "2021-12-15T12:56:43.158957Z",
     "shell.execute_reply.started": "2021-12-15T12:56:16.141305Z"
    },
    "papermill": {
     "duration": 0.064493,
     "end_time": "2021-12-15T12:56:43.159123",
     "exception": false,
     "start_time": "2021-12-15T12:56:43.094630",
     "status": "completed"
    },
    "tags": []
   },
   "outputs": [
    {
     "name": "stdout",
     "output_type": "stream",
     "text": [
      "Maximum Number of Ingredients in a recipe:  65\n",
      "Minimum Number of Ingredients in a recipe:  1\n"
     ]
    }
   ],
   "source": [
    "print('Maximum Number of Ingredients in a recipe: ',train['ingredients'].str.len().max())\n",
    "print('Minimum Number of Ingredients in a recipe: ',train['ingredients'].str.len().min())"
   ]
  },
  {
   "cell_type": "code",
   "execution_count": 6,
   "id": "9c837d57",
   "metadata": {
    "execution": {
     "iopub.execute_input": "2021-12-15T12:56:43.186557Z",
     "iopub.status.busy": "2021-12-15T12:56:43.185590Z",
     "iopub.status.idle": "2021-12-15T12:56:44.915878Z",
     "shell.execute_reply": "2021-12-15T12:56:44.915303Z",
     "shell.execute_reply.started": "2021-12-15T12:56:16.216460Z"
    },
    "papermill": {
     "duration": 1.745037,
     "end_time": "2021-12-15T12:56:44.916015",
     "exception": false,
     "start_time": "2021-12-15T12:56:43.170978",
     "status": "completed"
    },
    "tags": []
   },
   "outputs": [],
   "source": [
    "from nltk.stem import WordNetLemmatizer"
   ]
  },
  {
   "cell_type": "code",
   "execution_count": 7,
   "id": "0d0c16ba",
   "metadata": {
    "execution": {
     "iopub.execute_input": "2021-12-15T12:56:44.957728Z",
     "iopub.status.busy": "2021-12-15T12:56:44.956971Z",
     "iopub.status.idle": "2021-12-15T12:56:45.123673Z",
     "shell.execute_reply": "2021-12-15T12:56:45.123106Z",
     "shell.execute_reply.started": "2021-12-15T12:56:16.224453Z"
    },
    "papermill": {
     "duration": 0.19554,
     "end_time": "2021-12-15T12:56:45.123828",
     "exception": false,
     "start_time": "2021-12-15T12:56:44.928288",
     "status": "completed"
    },
    "tags": []
   },
   "outputs": [],
   "source": [
    "train.ingredients=train.ingredients.apply(lambda x: ''.join([str(e).replace(' ', '') for e in x]))"
   ]
  },
  {
   "cell_type": "code",
   "execution_count": 8,
   "id": "4a121708",
   "metadata": {
    "execution": {
     "iopub.execute_input": "2021-12-15T12:56:45.155902Z",
     "iopub.status.busy": "2021-12-15T12:56:45.153463Z",
     "iopub.status.idle": "2021-12-15T12:56:45.158269Z",
     "shell.execute_reply": "2021-12-15T12:56:45.158705Z",
     "shell.execute_reply.started": "2021-12-15T12:56:16.477799Z"
    },
    "papermill": {
     "duration": 0.022611,
     "end_time": "2021-12-15T12:56:45.158865",
     "exception": false,
     "start_time": "2021-12-15T12:56:45.136254",
     "status": "completed"
    },
    "tags": []
   },
   "outputs": [
    {
     "data": {
      "text/plain": [
       "0        romainelettuceblackolivesgrapetomatoesgarlicpe...\n",
       "1        plainflourgroundpeppersalttomatoesgroundblackp...\n",
       "2        eggspeppersaltmayonaisecookingoilgreenchiliesg...\n",
       "3                               watervegetableoilwheatsalt\n",
       "4        blackpeppershallotscornflourcayennepepperonion...\n",
       "                               ...                        \n",
       "39769    lightbrownsugargranulatedsugarbutterwarmwaterl...\n",
       "39770    KRAFTZestyItalianDressingpurpleonionbroccolifl...\n",
       "39771    eggscitrusfruitraisinssourdoughstarterflourhot...\n",
       "39772    bonelesschickenskinlessthighmincedgarlicsteame...\n",
       "39773    greenchilejalapenochiliesonionsgroundblackpepp...\n",
       "Name: ingredients, Length: 39774, dtype: object"
      ]
     },
     "execution_count": 8,
     "metadata": {},
     "output_type": "execute_result"
    }
   ],
   "source": [
    "train.ingredients "
   ]
  },
  {
   "cell_type": "code",
   "execution_count": 9,
   "id": "ec066908",
   "metadata": {
    "execution": {
     "iopub.execute_input": "2021-12-15T12:56:45.189012Z",
     "iopub.status.busy": "2021-12-15T12:56:45.188186Z",
     "iopub.status.idle": "2021-12-15T12:56:45.190922Z",
     "shell.execute_reply": "2021-12-15T12:56:45.190473Z",
     "shell.execute_reply.started": "2021-12-15T12:56:16.488474Z"
    },
    "papermill": {
     "duration": 0.020001,
     "end_time": "2021-12-15T12:56:45.191083",
     "exception": false,
     "start_time": "2021-12-15T12:56:45.171082",
     "status": "completed"
    },
    "tags": []
   },
   "outputs": [],
   "source": [
    "from sklearn.feature_extraction.text import TfidfVectorizer\n"
   ]
  },
  {
   "cell_type": "code",
   "execution_count": 10,
   "id": "04bf5b97",
   "metadata": {
    "execution": {
     "iopub.execute_input": "2021-12-15T12:56:45.245153Z",
     "iopub.status.busy": "2021-12-15T12:56:45.239983Z",
     "iopub.status.idle": "2021-12-15T12:56:45.464497Z",
     "shell.execute_reply": "2021-12-15T12:56:45.465048Z",
     "shell.execute_reply.started": "2021-12-15T12:56:16.500294Z"
    },
    "papermill": {
     "duration": 0.261765,
     "end_time": "2021-12-15T12:56:45.465240",
     "exception": false,
     "start_time": "2021-12-15T12:56:45.203475",
     "status": "completed"
    },
    "tags": []
   },
   "outputs": [],
   "source": [
    "cv = TfidfVectorizer(max_df=0.99, min_df=0.001, ngram_range=(1,1))\n",
    "features = cv.fit_transform(train.ingredients)\n",
    "\n"
   ]
  },
  {
   "cell_type": "code",
   "execution_count": 11,
   "id": "bfe4e7f7",
   "metadata": {
    "execution": {
     "iopub.execute_input": "2021-12-15T12:56:45.497003Z",
     "iopub.status.busy": "2021-12-15T12:56:45.496227Z",
     "iopub.status.idle": "2021-12-15T12:56:45.498817Z",
     "shell.execute_reply": "2021-12-15T12:56:45.498357Z",
     "shell.execute_reply.started": "2021-12-15T12:56:16.833925Z"
    },
    "papermill": {
     "duration": 0.019649,
     "end_time": "2021-12-15T12:56:45.498959",
     "exception": false,
     "start_time": "2021-12-15T12:56:45.479310",
     "status": "completed"
    },
    "tags": []
   },
   "outputs": [],
   "source": [
    "from sklearn.linear_model import LogisticRegression\n"
   ]
  },
  {
   "cell_type": "code",
   "execution_count": 12,
   "id": "e6d97ba6",
   "metadata": {
    "execution": {
     "iopub.execute_input": "2021-12-15T12:56:45.528048Z",
     "iopub.status.busy": "2021-12-15T12:56:45.527430Z",
     "iopub.status.idle": "2021-12-15T12:56:45.635725Z",
     "shell.execute_reply": "2021-12-15T12:56:45.634949Z",
     "shell.execute_reply.started": "2021-12-15T12:56:16.839453Z"
    },
    "papermill": {
     "duration": 0.123501,
     "end_time": "2021-12-15T12:56:45.636007",
     "exception": true,
     "start_time": "2021-12-15T12:56:45.512506",
     "status": "failed"
    },
    "tags": []
   },
   "outputs": [
    {
     "ename": "NameError",
     "evalue": "name 'X' is not defined",
     "output_type": "error",
     "traceback": [
      "\u001b[0;31m---------------------------------------------------------------------------\u001b[0m",
      "\u001b[0;31mNameError\u001b[0m                                 Traceback (most recent call last)",
      "\u001b[0;32m/tmp/ipykernel_19/2332719067.py\u001b[0m in \u001b[0;36m<module>\u001b[0;34m\u001b[0m\n\u001b[1;32m      1\u001b[0m \u001b[0mlr\u001b[0m \u001b[0;34m=\u001b[0m \u001b[0mLogisticRegression\u001b[0m\u001b[0;34m(\u001b[0m\u001b[0;34m)\u001b[0m\u001b[0;34m\u001b[0m\u001b[0;34m\u001b[0m\u001b[0m\n\u001b[0;32m----> 2\u001b[0;31m \u001b[0mlr\u001b[0m\u001b[0;34m.\u001b[0m\u001b[0mfit\u001b[0m\u001b[0;34m(\u001b[0m\u001b[0mX\u001b[0m\u001b[0;34m,\u001b[0m \u001b[0my\u001b[0m\u001b[0;34m)\u001b[0m\u001b[0;34m\u001b[0m\u001b[0;34m\u001b[0m\u001b[0m\n\u001b[0m",
      "\u001b[0;31mNameError\u001b[0m: name 'X' is not defined"
     ]
    }
   ],
   "source": [
    "lr = LogisticRegression()\n",
    "lr.fit(X, y)\n"
   ]
  },
  {
   "cell_type": "code",
   "execution_count": null,
   "id": "6ecdd266",
   "metadata": {
    "execution": {
     "iopub.execute_input": "2021-12-15T12:56:17.012718Z",
     "iopub.status.busy": "2021-12-15T12:56:17.012413Z",
     "iopub.status.idle": "2021-12-15T12:56:17.020848Z",
     "shell.execute_reply": "2021-12-15T12:56:17.019721Z",
     "shell.execute_reply.started": "2021-12-15T12:56:17.012684Z"
    },
    "papermill": {
     "duration": null,
     "end_time": null,
     "exception": null,
     "start_time": null,
     "status": "pending"
    },
    "tags": []
   },
   "outputs": [],
   "source": [
    "y_pred = lr.predict(X)\n",
    "y_pred"
   ]
  },
  {
   "cell_type": "code",
   "execution_count": null,
   "id": "e2dedad7",
   "metadata": {
    "execution": {
     "iopub.execute_input": "2021-12-15T12:56:17.023954Z",
     "iopub.status.busy": "2021-12-15T12:56:17.023495Z",
     "iopub.status.idle": "2021-12-15T12:56:17.037996Z",
     "shell.execute_reply": "2021-12-15T12:56:17.037210Z",
     "shell.execute_reply.started": "2021-12-15T12:56:17.023919Z"
    },
    "papermill": {
     "duration": null,
     "end_time": null,
     "exception": null,
     "start_time": null,
     "status": "pending"
    },
    "tags": []
   },
   "outputs": [],
   "source": [
    "is_action = lr.predict_proba(X)[:, 1]\n",
    "is_action"
   ]
  },
  {
   "cell_type": "code",
   "execution_count": null,
   "id": "1be62b95",
   "metadata": {
    "execution": {
     "iopub.execute_input": "2021-12-15T12:56:17.039593Z",
     "iopub.status.busy": "2021-12-15T12:56:17.039321Z",
     "iopub.status.idle": "2021-12-15T12:56:17.045981Z",
     "shell.execute_reply": "2021-12-15T12:56:17.044959Z",
     "shell.execute_reply.started": "2021-12-15T12:56:17.039560Z"
    },
    "papermill": {
     "duration": null,
     "end_time": null,
     "exception": null,
     "start_time": null,
     "status": "pending"
    },
    "tags": []
   },
   "outputs": [],
   "source": [
    "from sklearn import metrics\n"
   ]
  },
  {
   "cell_type": "code",
   "execution_count": null,
   "id": "15bf6207",
   "metadata": {
    "execution": {
     "iopub.execute_input": "2021-12-15T12:56:17.047536Z",
     "iopub.status.busy": "2021-12-15T12:56:17.047297Z",
     "iopub.status.idle": "2021-12-15T12:56:17.318243Z",
     "shell.execute_reply": "2021-12-15T12:56:17.317353Z",
     "shell.execute_reply.started": "2021-12-15T12:56:17.047506Z"
    },
    "papermill": {
     "duration": null,
     "end_time": null,
     "exception": null,
     "start_time": null,
     "status": "pending"
    },
    "tags": []
   },
   "outputs": [],
   "source": [
    "accs = []\n",
    "f1_scores = []\n",
    "for t in np.linspace(0.1, 1, 10):\n",
    "    y_pred = is_action>t\n",
    "    print('t = ', t)\n",
    "    print('acc = ', metrics.accuracy_score(y, y_pred))\n",
    "    print('f1 = ', metrics.f1_score(y, y_pred))\n",
    "    f1_scores.append(metrics.f1_score(y, y_pred))\n",
    "    print('-')\n",
    "\n",
    "print('max f1 score = ', max(f1_scores))"
   ]
  }
 ],
 "metadata": {
  "kernelspec": {
   "display_name": "Python 3",
   "language": "python",
   "name": "python3"
  },
  "language_info": {
   "codemirror_mode": {
    "name": "ipython",
    "version": 3
   },
   "file_extension": ".py",
   "mimetype": "text/x-python",
   "name": "python",
   "nbconvert_exporter": "python",
   "pygments_lexer": "ipython3",
   "version": "3.8.8"
  },
  "papermill": {
   "default_parameters": {},
   "duration": 13.785736,
   "end_time": "2021-12-15T12:56:46.458905",
   "environment_variables": {},
   "exception": true,
   "input_path": "__notebook__.ipynb",
   "output_path": "__notebook__.ipynb",
   "parameters": {},
   "start_time": "2021-12-15T12:56:32.673169",
   "version": "2.3.3"
  }
 },
 "nbformat": 4,
 "nbformat_minor": 5
}
